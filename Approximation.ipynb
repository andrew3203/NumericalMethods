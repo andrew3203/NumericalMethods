{
 "cells": [
  {
   "cell_type": "code",
   "execution_count": 2,
   "metadata": {},
   "outputs": [
    {
     "name": "stdout",
     "output_type": "stream",
     "text": [
      "Populating the interactive namespace from numpy and matplotlib\n"
     ]
    },
    {
     "name": "stderr",
     "output_type": "stream",
     "text": [
      "/Users/kuand/glb-env/lib/python3.8/site-packages/IPython/core/magics/pylab.py:159: UserWarning: pylab import has clobbered these variables: ['f']\n",
      "`%matplotlib` prevents importing * from pylab and numpy\n",
      "  warn(\"pylab import has clobbered these variables: %s\"  % clobbered +\n"
     ]
    }
   ],
   "source": [
    "import numpy as np\n",
    "import matplotlib.pyplot as plt\n",
    "\n",
    "%pylab inline "
   ]
  },
  {
   "cell_type": "code",
   "execution_count": 3,
   "metadata": {},
   "outputs": [
    {
     "data": {
      "image/png": "[encoded data removed]",
      "text/plain": [
       "<Figure size 432x288 with 1 Axes>"
      ]
     },
     "metadata": {
      "needs_background": "light"
     },
     "output_type": "display_data"
    }
   ],
   "source": [
    "def base1(x, p):\n",
    "    return x**p\n",
    "\n",
    "def norm_phi(n, m, phi, w=1):\n",
    "    sm = 0\n",
    "    for i in range(1, N):\n",
    "        sm += w*(phi(x[i], n)*phi(x[i], m) + phi(x[i-1], n)*phi(x[i-1], m)) / 2\n",
    "        \n",
    "    return sm\n",
    "\n",
    "def norm_u(k, phi, u, w=1):\n",
    "    sm = 0\n",
    "    for i in range(1, N):\n",
    "        sm += w*(phi(x[i], k)*u[i] + phi(x[i-1], k)*u[i]) / 2\n",
    "        \n",
    "    return sm\n",
    "    \n",
    "    \n",
    "def f(x):\n",
    "    return x**2 + 4\n",
    "  \n",
    "    \n",
    "    \n",
    "N = 20\n",
    "a, b = 0, 10\n",
    "x = np.linspace(a, b, N)\n",
    "u = f(x) + 5 * np.random.randn(N)\n",
    "delta = abs(u - f(x) + 1 * np.random.randn(N))\n",
    "\n",
    "plt.scatter(x, u, label='function scaters', color='r')\n",
    "plt.errorbar(x, f(x), delta, color='black', label='target function: $x^2 + 4$', elinewidth=1)\n",
    "plt.grid(1)\n",
    "plt.legend()\n",
    "plt.title('An Example')\n",
    "plt.show()"
   ]
  },
  {
   "cell_type": "code",
   "execution_count": 21,
   "metadata": {},
   "outputs": [
    {
     "name": "stdout",
     "output_type": "stream",
     "text": [
      "569.8569070776563 568.8569070776563\n",
      "2\n"
     ]
    },
    {
     "data": {
      "image/png": "[encoded data removed]",
      "text/plain": [
       "<Figure size 432x288 with 1 Axes>"
      ]
     },
     "metadata": {
      "needs_background": "light"
     },
     "output_type": "display_data"
    }
   ],
   "source": [
    "def solver(base, m, u=u, x=x):\n",
    "    M = m\n",
    "    A = np.zeros((M, M))\n",
    "    for i in range(M):\n",
    "        for j in range(M):\n",
    "            A[i][j] = norm_phi(i, j, base)\n",
    "    B = np.zeros(M)\n",
    "    for i in range(M):\n",
    "        B[i] = norm_u(i, base, u)\n",
    "    C = np.zeros(M)\n",
    "    C = np.linalg.solve(A, B)\n",
    "        \n",
    "    pred_y = []\n",
    "    for n in range(N):\n",
    "        sm = 0\n",
    "        for k in range(M):\n",
    "            sm += C[k]*base(x[n], k)\n",
    "        pred_y.append(sm)\n",
    "\n",
    "    return pred_y\n",
    "\n",
    "def aprox(base, u=u, x=x):\n",
    "    M = 0\n",
    "    MSE = np.sum(delta**2)\n",
    "    Real_MSE = MSE+1\n",
    "    print(Real_MSE, MSE)\n",
    "    while Real_MSE > MSE:\n",
    "        M += 1\n",
    "        Real_MSE = 0\n",
    "        y_pred = solver(base, M, u=u, x=x)\n",
    "        for i in range(M):\n",
    "            Real_MSE += (y_pred[i] - u[i])**2\n",
    "            \n",
    "    return solver(base, M, u=u, x=x), M\n",
    "    \n",
    "re = aprox(base1)\n",
    "print(re[1])\n",
    "pred_y = re[0]\n",
    "plt.scatter(x, u, label='scatters', color='b')\n",
    "plt.plot(x, pred_y, label='prediction', color='r')\n",
    "plt.grid(1)\n",
    "plt.legend()\n",
    "plt.title('Prediction')\n",
    "plt.show()"
   ]
  },
  {
   "cell_type": "code",
   "execution_count": 17,
   "metadata": {},
   "outputs": [
    {
     "data": {
      "text/plain": [
       "568.8569070776563"
      ]
     },
     "execution_count": 17,
     "metadata": {},
     "output_type": "execute_result"
    }
   ],
   "source": [
    "MSE = np.sum(delta**2)\n",
    "MSE"
   ]
  },
  {
   "cell_type": "code",
   "execution_count": null,
   "metadata": {},
   "outputs": [],
   "source": []
  }
 ],
 "metadata": {
  "kernelspec": {
   "display_name": "Python 3",
   "language": "python",
   "name": "python3"
  },
  "language_info": {
   "codemirror_mode": {
    "name": "ipython",
    "version": 3
   },
   "file_extension": ".py",
   "mimetype": "text/x-python",
   "name": "python",
   "nbconvert_exporter": "python",
   "pygments_lexer": "ipython3",
   "version": "3.8.3"
  }
 },
 "nbformat": 4,
 "nbformat_minor": 4
}
