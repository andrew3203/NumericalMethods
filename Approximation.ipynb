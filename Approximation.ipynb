{
 "cells": [
  {
   "cell_type": "code",
   "execution_count": 1,
   "metadata": {},
   "outputs": [
    {
     "name": "stdout",
     "output_type": "stream",
     "text": [
      "Populating the interactive namespace from numpy and matplotlib\n"
     ]
    }
   ],
   "source": [
    "import numpy as np\n",
    "import matplotlib.pyplot as plt\n",
    "\n",
    "%pylab inline "
   ]
  },
  {
   "cell_type": "code",
   "execution_count": 185,
   "metadata": {},
   "outputs": [
    {
     "data": {
      "image/png": "[encoded data removed]",
      "text/plain": [
       "<Figure size 432x288 with 1 Axes>"
      ]
     },
     "metadata": {
      "needs_background": "light"
     },
     "output_type": "display_data"
    }
   ],
   "source": [
    "def base1(x, p):\n",
    "    return x**p\n",
    "\n",
    "def norm_phi(k, phi, w=1):\n",
    "    sm = 0\n",
    "    for i in range(1, N):\n",
    "        sm += w*(phi(x[i], k)*phi(x[i], k) + phi(x[i-1], k)*phi(x[i-1], k)) / 2\n",
    "        \n",
    "    return sm\n",
    "\n",
    "def norm_u(k, phi, u, w=1):\n",
    "    sm = 0\n",
    "    for i in range(1, N):\n",
    "        sm += w*(phi(x[i], k)*u[i] + phi(x[i-1], k)*u[i]) / 2\n",
    "        \n",
    "    return sm\n",
    "    \n",
    "    \n",
    "def f(x):\n",
    "    return x**2 + 4\n",
    "  \n",
    "    \n",
    "    \n",
    "N = 20\n",
    "a, b = 0, 10\n",
    "x = np.linspace(a, b, N)\n",
    "u = f(x) + 5 * np.random.randn(N)\n",
    "delta = abs(u - f(x) + 1 * np.random.randn(N))\n",
    "\n",
    "plt.scatter(x, u, label='function scaters', color='r')\n",
    "plt.errorbar(x, f(x), delta, color='black', label='target function: $x^2 + 4$', elinewidth=1)\n",
    "plt.grid(1)\n",
    "plt.legend()\n",
    "plt.title('An Example')\n",
    "plt.show()"
   ]
  },
  {
   "cell_type": "code",
   "execution_count": 188,
   "metadata": {},
   "outputs": [
    {
     "name": "stdout",
     "output_type": "stream",
     "text": [
      "[40.46053884210488]\n"
     ]
    },
    {
     "data": {
      "image/png": "[encoded data removed]",
      "text/plain": [
       "<Figure size 432x288 with 1 Axes>"
      ]
     },
     "metadata": {
      "needs_background": "light"
     },
     "output_type": "display_data"
    }
   ],
   "source": [
    "def aprox(base, m, u=u, x=x):\n",
    "    M = m\n",
    "    c = [norm_u(k, base, u) / norm_phi(k, base) for k in range(M)]\n",
    "    pred_y = []\n",
    "    for n in range(N):\n",
    "        sm = 0\n",
    "        for k in range(M):\n",
    "            sm += c[k]*base(x[n], k)\n",
    "        pred_y.append(sm)\n",
    "    print(c)\n",
    "    return pred_y\n",
    "    \n",
    "pred_y = aprox(base1, 1)\n",
    "plt.scatter(x, u, label='scatters', color='b')\n",
    "plt.plot(x, pred_y, label='prediction', color='r')\n",
    "plt.grid(1)\n",
    "plt.legend()\n",
    "plt.title('Prediction')\n",
    "plt.show()"
   ]
  },
  {
   "cell_type": "code",
   "execution_count": 180,
   "metadata": {},
   "outputs": [
    {
     "data": {
      "text/plain": [
       "[39.71516376624494,\n",
       " 44.12223657491952,\n",
       " 48.529309383594104,\n",
       " 52.93638219226868,\n",
       " 57.343455000943266,\n",
       " 61.75052780961784,\n",
       " 66.15760061829242,\n",
       " 70.564673426967,\n",
       " 74.97174623564158,\n",
       " 79.37881904431617,\n",
       " 83.78589185299074,\n",
       " 88.19296466166531,\n",
       " 92.60003747033991,\n",
       " 97.00711027901448,\n",
       " 101.41418308768907,\n",
       " 105.82125589636365,\n",
       " 110.22832870503822,\n",
       " 114.63540151371281,\n",
       " 119.04247432238739,\n",
       " 123.44954713106198]"
      ]
     },
     "execution_count": 180,
     "metadata": {},
     "output_type": "execute_result"
    }
   ],
   "source": [
    "pred_y"
   ]
  },
  {
   "cell_type": "code",
   "execution_count": null,
   "metadata": {},
   "outputs": [],
   "source": []
  }
 ],
 "metadata": {
  "kernelspec": {
   "display_name": "Python 3",
   "language": "python",
   "name": "python3"
  },
  "language_info": {
   "codemirror_mode": {
    "name": "ipython",
    "version": 3
   },
   "file_extension": ".py",
   "mimetype": "text/x-python",
   "name": "python",
   "nbconvert_exporter": "python",
   "pygments_lexer": "ipython3",
   "version": "3.8.3"
  }
 },
 "nbformat": 4,
 "nbformat_minor": 4
}
