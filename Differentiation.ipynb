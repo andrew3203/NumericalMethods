{
 "cells": [
  {
   "cell_type": "code",
   "execution_count": 1,
   "metadata": {},
   "outputs": [
    {
     "name": "stdout",
     "output_type": "stream",
     "text": [
      "Populating the interactive namespace from numpy and matplotlib\n"
     ]
    }
   ],
   "source": [
    "import numpy as np\n",
    "import matplotlib.pyplot as plt \n",
    "\n",
    "%pylab inline\n",
    "plt.style.use('seaborn-dark')\n",
    "plt.rc('font', size=15)\n",
    "\n",
    "\n",
    "import warnings\n",
    "warnings.filterwarnings(\"ignore\")"
   ]
  },
  {
   "cell_type": "code",
   "execution_count": 2,
   "metadata": {},
   "outputs": [],
   "source": [
    "def PrintTriangular(mas, i, lines=None):\n",
    "    if lines is None:\n",
    "        lines = len(mas)\n",
    "        \n",
    "    for line in range(lines):\n",
    "        for n in range(line + 1 - i):\n",
    "            print('{0:7.4f}'.format(mas[line][n]), end=' ')\n",
    "        print()"
   ]
  },
  {
   "cell_type": "code",
   "execution_count": 149,
   "metadata": {},
   "outputs": [
    {
     "data": {
      "text/plain": [
       "(-4.339639758654812e-12, 4)"
      ]
     },
     "execution_count": 149,
     "metadata": {},
     "output_type": "execute_result"
    }
   ],
   "source": [
    "def Interpolation(x, u, a):\n",
    "    N = len(x) - 1\n",
    "    U = np.zeros((N+1,N+1))\n",
    "    U[:, 0] = u\n",
    "\n",
    "    for k in range(1, N+1):   \n",
    "        for n in range(N + 1 - k):\n",
    "            U[n,k] = k * (U[n,k-1]-U[n+1,k-1]) / (x[n]-x[n+k])\n",
    "            \n",
    "    sm = 0.\n",
    "    for n in range(N+1):\n",
    "        P = 1.\n",
    "        for k in range(n):\n",
    "            P *= (a - x[k])  \n",
    "            \n",
    "        sm += U[0,n] / fact(n)*P\n",
    "        \n",
    "    return sm\n",
    "\n",
    "# u - функция, a, b - границы ее задания, x0 - точка в которой береться производная\n",
    "def _get_U(u, a, b, x0, N):\n",
    "    x = np.linspace(a, b, N)\n",
    "    \n",
    "    U = np.zeros((N, N))\n",
    "    U[:, 0] = u(x)\n",
    "    for k in range(1, N):   \n",
    "        for n in range(N - k):\n",
    "            U[n,k] = k * (U[n,k-1]-U[n+1,k-1]) / (x[n]-x[n+k])\n",
    "    \n",
    " \n",
    "    index = [i for i in range(N)]\n",
    "    n = min(index, key=lambda i: abs(x0 - x[i]))\n",
    "    return U[0], n\n",
    "\n",
    "# работает правильно, все как надо\n",
    "def diff_1(u, a, b, x0, N):\n",
    "    U, n = _get_U(u, a, b, x0, N)\n",
    "    h = (b - a) / N\n",
    "    \n",
    "    # первая производная со 2-ым порядком точности\n",
    "    ans = U[1] + U[2]*(x0-h/2)\n",
    "    \n",
    "    return ans\n",
    "    \n",
    "    \n",
    "# а вот тут что то оочень странное\n",
    "def diff_10(u, a, b, x0, N):\n",
    "    U, n = _get_U(u, a, b, x0, N)\n",
    "    h = (b - a) / N\n",
    "    \n",
    "    # первая производная со 2-ым порядком точности\n",
    "    ans = (U[n-1] -2*U[n] + U[n+1]) / h**2\n",
    "    \n",
    "    return ans, n\n",
    "\n",
    "diff_10(lambda x: x**2, 0, 2, 1, 8)"
   ]
  },
  {
   "cell_type": "code",
   "execution_count": 125,
   "metadata": {},
   "outputs": [],
   "source": [
    "def RicherdsonExtrapolation(func, a, b, x0, EPS=10, p=1, q=1, r=2, N=3, S=15):\n",
    "    U = np.zeros((S,S))\n",
    "    R = np.zeros((S,S))\n",
    "    p_eff = np.zeros((S,S))\n",
    "\n",
    "    s = 1\n",
    "    U[0][0] = diff_1(func, a, b, x0, N)\n",
    "    while True:\n",
    "        U[s][0] = diff_1(func, a, b, x0, r**s*N)\n",
    "\n",
    "        for n in range(s):\n",
    "            R[s][n] = (U[s][n] - U[s-1][n]) / (r**(p + n*q) - 1)\n",
    "            \n",
    "            p_eff[s][n] = log(abs(R[s-1][n]/R[s][n])) / log(r)\n",
    "            \n",
    "            U[s][n + 1] = U[s][n] + R[s][n]\n",
    "            \n",
    "            if abs(R[s][n]) < (0.1)**EPS:\n",
    "                return (U[s][n], R[s][n], p_eff[s][n], p*(s-1)+n*q | p, s, n, U, R, p_eff)\n",
    "\n",
    "            \n",
    "        \n",
    "        s += 1\n",
    "        if s > 13: \n",
    "            print('oops')\n",
    "            return (U[s-1][s-1], R[s-1][s-1], p_eff[s-1][s-3], p + s*q, s, s, U, R, p_eff)\n",
    "\n"
   ]
  },
  {
   "cell_type": "code",
   "execution_count": 137,
   "metadata": {},
   "outputs": [
    {
     "name": "stdout",
     "output_type": "stream",
     "text": [
      " Ответ: 3.9999964591\n",
      " Погрешность: 0.0000042491\n",
      " Эффективный порядок точности: 4.5698550001\n",
      " Теоретический порядок точности: 7.00000\n",
      " \n",
      " 4.6667 \n",
      " 4.1333  3.6000 \n",
      " 4.0303  3.9273  4.0364 \n",
      " 4.0072  3.9842  4.0032  3.9984 \n",
      " 4.0018  3.9963  4.0003  3.9999  4.0000 \n",
      "\n",
      "-0.5333 \n",
      "-0.1030  0.1091 \n",
      "-0.0231  0.0190 -0.0047 \n",
      "-0.0055  0.0040 -0.0004  0.0001 \n",
      "\n",
      "\n",
      " 2.3720 \n",
      " 2.1598  2.5236 \n",
      " 2.0747  2.2327  3.5546 \n"
     ]
    }
   ],
   "source": [
    "f = lambda x: 2*x**2 + 20\n",
    "\n",
    "ans = RicherdsonExtrapolation(f, a=0, b=2, x0=1, EPS=5)\n",
    "re = \" \\\n",
    "Ответ: {0:12.10f}\\n \\\n",
    "Погрешность: {1:12.10f}\\n \\\n",
    "Эффективный порядок точности: {2:7.10f}\\n \\\n",
    "Теоретический порядок точности: {3:7.5f}\\n \\\n",
    "\".format(ans[0], ans[1], ans[2], ans[3])\n",
    "print(re)\n",
    "PrintTriangular(ans[-3], 0, ans[4])\n",
    "PrintTriangular(ans[-2], 1, ans[4])\n",
    "PrintTriangular(ans[-1], 2, ans[4])"
   ]
  },
  {
   "cell_type": "code",
   "execution_count": null,
   "metadata": {},
   "outputs": [],
   "source": []
  }
 ],
 "metadata": {
  "kernelspec": {
   "display_name": "Python 3",
   "language": "python",
   "name": "python3"
  },
  "language_info": {
   "codemirror_mode": {
    "name": "ipython",
    "version": 3
   },
   "file_extension": ".py",
   "mimetype": "text/x-python",
   "name": "python",
   "nbconvert_exporter": "python",
   "pygments_lexer": "ipython3",
   "version": "3.8.3"
  }
 },
 "nbformat": 4,
 "nbformat_minor": 4
}
