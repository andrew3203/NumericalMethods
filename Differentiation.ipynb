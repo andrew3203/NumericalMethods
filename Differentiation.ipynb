{
 "cells": [
  {
   "cell_type": "code",
   "execution_count": 1,
   "metadata": {},
   "outputs": [
    {
     "name": "stdout",
     "output_type": "stream",
     "text": [
      "Populating the interactive namespace from numpy and matplotlib\n"
     ]
    }
   ],
   "source": [
    "import numpy as np\n",
    "import matplotlib.pyplot as plt \n",
    "\n",
    "%pylab inline\n",
    "plt.style.use('seaborn-dark')\n",
    "plt.rc('font', size=15)\n",
    "\n",
    "\n",
    "import warnings\n",
    "warnings.filterwarnings(\"ignore\")"
   ]
  },
  {
   "cell_type": "code",
   "execution_count": 2,
   "metadata": {},
   "outputs": [],
   "source": [
    "def PrintTriangular(mas, i, lines=None):\n",
    "    if lines is None:\n",
    "        lines = len(mas)\n",
    "        \n",
    "    for line in range(lines):\n",
    "        for n in range(line + 1 - i):\n",
    "            print('{0:7.4f}'.format(mas[line][n]), end=' ')\n",
    "        print()"
   ]
  },
  {
   "cell_type": "code",
   "execution_count": 3,
   "metadata": {},
   "outputs": [],
   "source": [
    "def Integration(u, a, b, N):\n",
    "    h = (b - a) / N\n",
    "    x = linspace(a, b, N+1)\n",
    "    integral = 0.\n",
    "    for n in range(1, N+1):\n",
    "        integral = integral + (u(x[n-1]) + u(x[n])) / 2*h \n",
    "    return integral"
   ]
  },
  {
   "cell_type": "code",
   "execution_count": 4,
   "metadata": {},
   "outputs": [],
   "source": [
    "def RicherdsonExtrapolation(func, a, b, EPS=10, p=2, q=2, r=2, N=2, S=15):\n",
    "    U = np.zeros((S,S))\n",
    "    R = np.zeros((S,S))\n",
    "    p_eff = np.zeros((S,S))\n",
    "\n",
    "    s = 1\n",
    "    U[0][0] = Integration(func, a, b, N)\n",
    "    while True:\n",
    "        U[s][0] = Integration(func, a, b, r**s*N)\n",
    "\n",
    "        for n in range(s):\n",
    "            R[s][n] = (U[s][n] - U[s-1][n]) / (r**(p + n*q) - 1)\n",
    "            \n",
    "            p_eff[s][n] = log(abs(R[s-1][n]/R[s][n])) / log(r)\n",
    "            \n",
    "            U[s][n + 1] = U[s][n] + R[s][n]\n",
    "            \n",
    "            if abs(R[s][n]) < (0.1)**EPS:\n",
    "                return (U[s][n], R[s][n], p_eff[s][n], p*(s-1)+n*q | p, s, n, U, R, p_eff)\n",
    "\n",
    "            \n",
    "        \n",
    "        s += 1\n",
    "        if s > 13: \n",
    "            print('oops')\n",
    "            return (U[s-1][s-1], R[s-1][s-1], p_eff[s-1][s-3], p + s*q, s, s, U, R, p_eff)\n",
    "\n"
   ]
  },
  {
   "cell_type": "code",
   "execution_count": 5,
   "metadata": {},
   "outputs": [
    {
     "name": "stdout",
     "output_type": "stream",
     "text": [
      " Ответ: 1.9299559322\n",
      " Погрешность: -0.0000000000\n",
      " Эффективный порядок точности: 3.2094533656\n",
      " Теоретический порядок точности: 18.00000\n",
      " \n",
      " 2.2241 \n",
      " 2.0035  1.9300 \n",
      " 1.9483  1.9300  1.9300 \n",
      " 1.9346  1.9300  1.9300  1.9300 \n",
      " 1.9311  1.9300  1.9300  1.9300  1.9300 \n",
      " 1.9302  1.9300  1.9300  1.9300  1.9300  1.9300 \n",
      "\n",
      "-0.0735 \n",
      "-0.0184 -0.0000 \n",
      "-0.0046 -0.0000  0.0000 \n",
      "-0.0011 -0.0000  0.0000  0.0000 \n",
      "-0.0003 -0.0000  0.0000  0.0000 -0.0000 \n",
      "\n",
      "\n",
      " 1.9994 \n",
      " 1.9999  4.6638 \n",
      " 2.0000  4.2282  5.9980 \n",
      " 2.0000  4.0632  5.9996  8.2015 \n"
     ]
    }
   ],
   "source": [
    "f = lambda x: 3*np.sin(x)*x**2*np.exp(x)/x\n",
    "\n",
    "ans = RicherdsonExtrapolation(f, a=0.1, b=1., EPS=18)\n",
    "re = \" \\\n",
    "Ответ: {0:12.10f}\\n \\\n",
    "Погрешность: {1:12.10f}\\n \\\n",
    "Эффективный порядок точности: {2:7.10f}\\n \\\n",
    "Теоретический порядок точности: {3:7.5f}\\n \\\n",
    "\".format(ans[0], ans[1], ans[2], ans[3])\n",
    "print(re)\n",
    "PrintTriangular(ans[-3], 0, ans[4])\n",
    "PrintTriangular(ans[-2], 1, ans[4])\n",
    "PrintTriangular(ans[-1], 2, ans[4])"
   ]
  }
 ],
 "metadata": {
  "kernelspec": {
   "display_name": "Python 3",
   "language": "python",
   "name": "python3"
  },
  "language_info": {
   "codemirror_mode": {
    "name": "ipython",
    "version": 3
   },
   "file_extension": ".py",
   "mimetype": "text/x-python",
   "name": "python",
   "nbconvert_exporter": "python",
   "pygments_lexer": "ipython3",
   "version": "3.8.3"
  }
 },
 "nbformat": 4,
 "nbformat_minor": 4
}
