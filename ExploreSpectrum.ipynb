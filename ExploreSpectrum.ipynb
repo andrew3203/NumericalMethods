{
 "cells": [
  {
   "cell_type": "code",
   "execution_count": 1,
   "metadata": {},
   "outputs": [],
   "source": [
    "import numpy as np\n",
    "import warnings\n",
    "\n",
    "\n",
    "warnings.filterwarnings(\"ignore\")"
   ]
  },
  {
   "cell_type": "code",
   "execution_count": 2,
   "metadata": {},
   "outputs": [],
   "source": [
    "def getSpectrum(getA, a, b, N):\n",
    "    A = getA(a, b, N)\n",
    "    X1 = np.arange(N)\n",
    "    lambda_, lambda_0 = 1, 0\n",
    "    while abs(lambda_ - lambda_0) > 0.01:\n",
    "        X = X1\n",
    "        X1 = A.dot(X)\n",
    "    \n",
    "        lambda_0 = lambda_\n",
    "        lambda_ = np.sum(X1 * X1) / np.sum(X1 * X)\n",
    "        \n",
    "    return lambda_"
   ]
  },
  {
   "cell_type": "code",
   "execution_count": 3,
   "metadata": {},
   "outputs": [],
   "source": [
    "def RicherdsonExtrapolation(func, a, b, EPS=10, p=2, q=1, r=2, N=2, S=25):\n",
    "    U = np.zeros((S,S))\n",
    "    R = np.zeros((S,S))\n",
    "    p_eff = np.zeros((S,S))\n",
    "\n",
    "    s = 1\n",
    "    U[0][0] = getSpectrum(func, a, b, N)\n",
    "    while True:\n",
    "        \n",
    "        U[s][0] = getSpectrum(func, a, b, r**s*N)\n",
    "        for n in range(s):\n",
    "            \n",
    "            R[s][n] = (U[s][n] - U[s-1][n]) / (r**(p + n*q) - 1)\n",
    "            p_eff[s][n] = np.log(abs(R[s-1][n] / R[s][n])) / np.log(r)\n",
    "            U[s][n + 1] = U[s][n] + R[s][n]\n",
    "            \n",
    "            if 100 * abs(R[s][n] / U[s][n]) < EPS:\n",
    "                pt = p*(s-1)+n*q | p\n",
    "                return (U[s][n], R[s][n], p_eff[s][n-1], pt, s, n, U, R, p_eff) \n",
    "            \n",
    "        s += 1\n",
    "        if s > 23: \n",
    "            print('ololo')\n",
    "            return (U[s-1][s-1], R[s-1][s-1], p_eff[s-1][s-3], p + s*q, s, s, U, R, p_eff)"
   ]
  },
  {
   "cell_type": "code",
   "execution_count": 4,
   "metadata": {},
   "outputs": [],
   "source": [
    "def PrintTriangular(mas, i, lines=None):\n",
    "    if lines is None:\n",
    "        lines = len(mas)\n",
    "        \n",
    "    for line in range(1+lines):\n",
    "        for n in range(line + 1 - i):\n",
    "            print('{0:7.4f}'.format(mas[line][n]), end=' ')\n",
    "        print()"
   ]
  },
  {
   "cell_type": "code",
   "execution_count": 5,
   "metadata": {},
   "outputs": [],
   "source": [
    "def show_answer(ans):\n",
    "    re = \" \\\n",
    "Ответ: {0:12.10f}\\n \\\n",
    "Погрешность: {1:12.10f}\\n \\\n",
    "Ошибка: {2:6.4f}%\\n \\\n",
    "Эффективный порядок точности: {3:7.10f}\\n \\\n",
    "Теоретический порядок точности: {4:7.5f}\\n \\\n",
    "    \".format(ans[0], ans[1], 100*np.abs(ans[1]/ans[0]), ans[2], ans[3])\n",
    "    print(re)\n",
    "    PrintTriangular(ans[-3], 0, ans[4])\n",
    "    PrintTriangular(ans[-2], 1, ans[4])\n",
    "    PrintTriangular(ans[-1], 2, ans[4])"
   ]
  },
  {
   "cell_type": "markdown",
   "metadata": {},
   "source": [
    "#### Поиск минимального собсвенного значения задачи Штурма-Лиувилля при помощи алгоритма обратной итерации с использованием методики Ричердсона.\n",
    "$$\n",
    "\\begin{equation*}\n",
    " \\begin{cases}\n",
    "   U_{xx} + aU_x + \\lambda U = 0, \n",
    "   \\\\\n",
    "   U(0) = 0, U(1) = 0, \n",
    "   \\\\\n",
    "   x \\in [0, 1]\n",
    " \\end{cases}\n",
    "\\end{equation*}\n",
    "$$"
   ]
  },
  {
   "cell_type": "markdown",
   "metadata": {},
   "source": [
    "1. Данной задаче будет соответсвовать матрица A в бесконечномерном пространсве\n",
    "2. Если использовать в качестве производных их конечно разностную апроксимацию со вторым порядком точности, то коэффициенты данной матрицы будут выражаеться по формулам:\n",
    "   - $a_{n,n-1} = \\frac{1}{h^2} - \\frac{a}{2h}$, $n = 2,..,N$\n",
    "   - $a_{n,n} = -\\frac{2}{h^2}$, $n = 1,..,N$\n",
    "   - $a_{n,n+1} = \\frac{1}{h^2} + \\frac{a}{2h}$, $n = 1,..,N$\n",
    "   \n",
    "где a - любое число, h - шаг равномерной сетки по х\n",
    "\n",
    "3. Таким образом, получим систему уравнений $Ay = \\lambda y$, для которой можно применить метод обратной итерации, тогда \n",
    "   - $ \\frac{(x^{(s+1)},x^{(s+1)})}{(x^{(s)},x^{(s+1)})} = \\lambda_n \\rightarrow  \\lambda_{min}$, при $s \\rightarrow +\\infty$"
   ]
  },
  {
   "cell_type": "markdown",
   "metadata": {},
   "source": [
    "## Задача 1: Найти минимальное с.з задачи   ШТ с точностью не хуже 3%\n",
    "$$\n",
    "\\begin{equation*}\n",
    " \\begin{cases}\n",
    "   U_{xx} + 4U_x + \\lambda U = 0, \n",
    "   \\\\\n",
    "   U(0) = 0, U(1) = 0, \n",
    "   \\\\\n",
    "   x \\in [0, 1]\n",
    " \\end{cases}\n",
    "\\end{equation*}\n",
    "$$"
   ]
  },
  {
   "cell_type": "code",
   "execution_count": 6,
   "metadata": {},
   "outputs": [],
   "source": [
    "def task1(a, b, N):\n",
    "    h = (b - a) / N\n",
    "    B = np.zeros((N+1, N+2))\n",
    "    \n",
    "    xn = a\n",
    "    for n in range(1, N+1):\n",
    "        xn += h \n",
    "        B[n][n-1] = 1/h**2 - 2/h\n",
    "        B[n][n] = -2/h**2\n",
    "        B[n][n+1] = 1/h**2 + 2/h\n",
    "\n",
    "    A = np.linalg.inv(B[1:, 1:-1])     \n",
    "    return A"
   ]
  },
  {
   "cell_type": "code",
   "execution_count": 7,
   "metadata": {},
   "outputs": [
    {
     "name": "stdout",
     "output_type": "stream",
     "text": [
      " Ответ: -0.0860821943\n",
      " Погрешность: 0.0009279250\n",
      " Ошибка: 1.0780%\n",
      " Эффективный порядок точности: 1.4963242755\n",
      " Теоретический порядок точности: 3.00000\n",
      "     \n",
      "-0.1548 \n",
      "-0.1081 -0.0926 \n",
      "-0.0916 -0.0861 -0.0852 \n",
      "\n",
      " 0.0155 \n",
      " 0.0055  0.0009 \n",
      "\n",
      "\n",
      " 1.4963 \n"
     ]
    }
   ],
   "source": [
    "#EPS - в процентах \n",
    "ans = RicherdsonExtrapolation(task1, a=0, b=1, EPS=3)\n",
    "show_answer(ans)"
   ]
  },
  {
   "cell_type": "markdown",
   "metadata": {},
   "source": [
    "## Задача 2: Найти минимальное с.з задачи ШТ с точностью не хуже 1%\n",
    "$$\n",
    "\\begin{equation*}\n",
    " \\begin{cases}\n",
    "   U_{xx} + 9xU_x + \\lambda U = 0, \n",
    "   \\\\\n",
    "   U(0) = 0, U(1) = 0, \n",
    "   \\\\\n",
    "   x \\in [0, 1]\n",
    " \\end{cases}\n",
    "\\end{equation*}\n",
    "$$\n",
    "\n",
    "Тогда матрица задачи будет задоваться:\n",
    "   - $a_{n,n-1} = \\frac{1}{h^2} - \\frac{9x_n}{2h}$, $n = \\overline{2, N}$\n",
    "   - $a_{n,n} = -\\frac{2}{h^2}$, $n = \\overline{1, N}$\n",
    "   - $a_{n,n+1} = \\frac{1}{h:2} + \\frac{9x_n}{2h}$, $n = \\overline{1, N}$\n",
    "   \n",
    "где $x_n = x_0 + hn$"
   ]
  },
  {
   "cell_type": "code",
   "execution_count": 8,
   "metadata": {},
   "outputs": [],
   "source": [
    "def task2(a, b, N):\n",
    "    h = (b - a) / N\n",
    "    B = np.zeros((N+1, N+2))\n",
    "    \n",
    "    xn = a\n",
    "    for n in range(1, N+1):\n",
    "        B[n][n-1] = 1/h**2 - 9*xn/(2*h)\n",
    "        B[n][n] = -2/h**2\n",
    "        B[n][n+1] = 1/h**2 + 9*xn/(2*h)\n",
    "        xn += h \n",
    "        \n",
    "    A = np.linalg.inv(B[1:, 1:-1])    \n",
    "    return A"
   ]
  },
  {
   "cell_type": "code",
   "execution_count": 9,
   "metadata": {},
   "outputs": [
    {
     "name": "stdout",
     "output_type": "stream",
     "text": [
      " Ответ: -0.0573647375\n",
      " Погрешность: 0.0000936658\n",
      " Ошибка: 0.1633%\n",
      " Эффективный порядок точности: 1.8945604579\n",
      " Теоретический порядок точности: 7.00000\n",
      "     \n",
      "-0.1600 \n",
      "-0.0926 -0.0702 \n",
      "-0.0667 -0.0580 -0.0563 \n",
      "-0.0597 -0.0574 -0.0573  0.0000 \n",
      "\n",
      " 0.0225 \n",
      " 0.0086  0.0017 \n",
      " 0.0023  0.0001  0.0000 \n",
      "\n",
      "\n",
      " 1.3768 \n",
      " 1.8946  4.2099 \n"
     ]
    }
   ],
   "source": [
    "#EPS - в процентах \n",
    "ans2 = RicherdsonExtrapolation(task2, a=0, b=1, EPS=1)\n",
    "show_answer(ans2)"
   ]
  },
  {
   "cell_type": "markdown",
   "metadata": {},
   "source": [
    "## Найти первое с.з. задачи: $ u(x) = \\lambda \\int_{-1}^{1} (x + \\xi)^2u(\\xi) \\,d\\xi$\n",
    "\n",
    "1. Представим задачу в виде суммы используя формулу трапеций: \n",
    "   - $U_m = \\lambda \\sum_{n=1}^{N} \\frac{(x_m + \\xi_{n-1})^2U_{n-1} + (x_m + \\xi_n)^2U_n}{2}h_n\\ , m = \\overline{1, N}$\n",
    "2. Что соответсвует матричному уравнению $\\overline U = \\lambda A \\overline U$, где коэффициенты матрицы выражаються как \n",
    "   - $\\{a_{i,j}\\} = (x_i + \\xi_j)^2h$, если $j = 0; N$ \n",
    "   - $\\{a_{i,j}\\} = 2(x_i + \\xi_j)^2h$, если $0 < j < N$ \n",
    "   - где $i, j = \\overline{0, N}$\n",
    "3. Сделаем замену $\\nu = \\frac{1}{\\lambda}$, тогда получим уравнение $A \\overline U = \\nu \\overline U$.\n",
    "4. Таким образом задаче о поиске первого (наименьшего) с.з. $\\lambda$, будет эквивалентна задача о поиске последнего (наибольшего) $\\nu$. \n",
    "5. Поэтому будем использовать метод прямой итерации"
   ]
  },
  {
   "cell_type": "code",
   "execution_count": 10,
   "metadata": {},
   "outputs": [],
   "source": [
    "def task3(a, b, N):\n",
    "    h = (b - a) / N # по x будем брать такую же область\n",
    "    A = np.zeros((N, N))\n",
    "    \n",
    "    x = a\n",
    "    xi = a\n",
    "    for i in range(N):\n",
    "        xi = a\n",
    "        A[i][0] = (x + xi)**2*h\n",
    "        for j in range(1, N-1):\n",
    "            xi += h\n",
    "            A[i][j] = 2*(x + xi)**2*h\n",
    "        \n",
    "        xi += h\n",
    "        A[i][N-1] = (x + xi)**2*h\n",
    "        x += h\n",
    "    \n",
    "    return A"
   ]
  },
  {
   "cell_type": "code",
   "execution_count": 11,
   "metadata": {},
   "outputs": [
    {
     "name": "stdout",
     "output_type": "stream",
     "text": [
      " Ответ: 2.9246389272\n",
      " Погрешность: -0.0147962711\n",
      " Ошибка: 0.5059%\n",
      " Эффективный порядок точности: 1.5745396035\n",
      " Теоретический порядок точности: 3.00000\n",
      "     \n",
      " 4.2361 \n",
      " 3.3302  3.0282 \n",
      " 3.0260  2.9246  2.9098 \n",
      "\n",
      "-0.3020 \n",
      "-0.1014 -0.0148 \n",
      "\n",
      "\n",
      " 1.5745 \n"
     ]
    }
   ],
   "source": [
    "#EPS - в процентах \n",
    "ans3 = RicherdsonExtrapolation(task3, a=-1, b=1, EPS=1)\n",
    "show_answer(ans3)"
   ]
  },
  {
   "cell_type": "markdown",
   "metadata": {},
   "source": [
    "Сделаем обратную замену и получим первое с.з:"
   ]
  },
  {
   "cell_type": "code",
   "execution_count": 12,
   "metadata": {},
   "outputs": [
    {
     "name": "stdout",
     "output_type": "stream",
     "text": [
      " Ответ: 0.3419225501\n",
      " Погрешность: 0.0415914330\n",
      "     \n"
     ]
    }
   ],
   "source": [
    "re = \" \\\n",
    "Ответ: {0:12.10f}\\n \\\n",
    "Погрешность: {1:12.10f}\\n \\\n",
    "    \".format(1/ans3[0], abs(ans3[1])**(0.5)/ans3[0])\n",
    "print(re)"
   ]
  },
  {
   "cell_type": "markdown",
   "metadata": {},
   "source": [
    "## Найти первое с.з. задачи: $ u(x) = \\lambda \\int_{0}^{\\pi} sin(x + \\xi)u(\\xi) \\,d\\xi$\n",
    "\n",
    "1. Построим совершенно аналагичные рассуждение предидущей задачи"
   ]
  },
  {
   "cell_type": "code",
   "execution_count": 13,
   "metadata": {},
   "outputs": [],
   "source": [
    "def task4(a, b, N):\n",
    "    h = (b - a) / N # по x будем брать такую же область\n",
    "    A = np.zeros((N, N))\n",
    "    \n",
    "    x = a\n",
    "    xi = a\n",
    "    for i in range(N):\n",
    "        xi = a\n",
    "        A[i][0] = np.sin(x + xi)*h\n",
    "        for j in range(1, N-1):\n",
    "            xi += h\n",
    "            A[i][j] = 2*np.sin(x + xi)*h\n",
    "        \n",
    "        xi += h\n",
    "        A[i][N-1] = np.sin(x + xi)*h\n",
    "        x += h\n",
    "    \n",
    "    return A"
   ]
  },
  {
   "cell_type": "code",
   "execution_count": 14,
   "metadata": {},
   "outputs": [
    {
     "name": "stdout",
     "output_type": "stream",
     "text": [
      " Ответ: 79.3771239349\n",
      " Погрешность: 0.6359930603\n",
      " Ошибка: 0.8012%\n",
      " Эффективный порядок точности: 0.8539924425\n",
      " Теоретический порядок точности: 6.00000\n",
      "     \n",
      "16.4181 \n",
      "39.7752 47.5608 \n",
      "60.2333 67.0527 69.8372 \n",
      "73.4358 77.8366 79.3771 80.0131 \n",
      "\n",
      " 7.7857 \n",
      " 6.8194  2.7845 \n",
      " 4.4008  1.5406  0.6360 \n",
      "\n",
      "\n",
      " 0.1912 \n",
      " 0.6319  0.8540 \n"
     ]
    }
   ],
   "source": [
    "#EPS - в процентах \n",
    "ans4 = RicherdsonExtrapolation(task3, a=0, b=np.pi, EPS=1)\n",
    "show_answer(ans4)"
   ]
  },
  {
   "cell_type": "code",
   "execution_count": 15,
   "metadata": {},
   "outputs": [
    {
     "name": "stdout",
     "output_type": "stream",
     "text": [
      " Ответ: 0.0125980881\n",
      " Погрешность: 0.0100468711\n",
      "     \n"
     ]
    }
   ],
   "source": [
    "re = \" \\\n",
    "Ответ: {0:12.10f}\\n \\\n",
    "Погрешность: {1:12.10f}\\n \\\n",
    "    \".format(1/ans4[0], abs(ans4[1])**(0.5)/ans4[0])\n",
    "print(re)"
   ]
  },
  {
   "cell_type": "code",
   "execution_count": null,
   "metadata": {},
   "outputs": [],
   "source": []
  }
 ],
 "metadata": {
  "kernelspec": {
   "display_name": "Python 3",
   "language": "python",
   "name": "python3"
  },
  "language_info": {
   "codemirror_mode": {
    "name": "ipython",
    "version": 3
   },
   "file_extension": ".py",
   "mimetype": "text/x-python",
   "name": "python",
   "nbconvert_exporter": "python",
   "pygments_lexer": "ipython3",
   "version": "3.8.3"
  }
 },
 "nbformat": 4,
 "nbformat_minor": 4
}
