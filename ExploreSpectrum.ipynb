{
 "cells": [
  {
   "cell_type": "code",
   "execution_count": 1,
   "metadata": {},
   "outputs": [
    {
     "name": "stdout",
     "output_type": "stream",
     "text": [
      "Populating the interactive namespace from numpy and matplotlib\n"
     ]
    }
   ],
   "source": [
    "import numpy as np\n",
    "import matplotlib.pyplot as plt \n",
    "import seaborn as sns\n",
    "\n",
    "%pylab inline\n",
    "sns.set(rc={'figure.figsize': (9, 5)})\n",
    "\n",
    "\n",
    "import warnings\n",
    "warnings.filterwarnings(\"ignore\")"
   ]
  },
  {
   "cell_type": "code",
   "execution_count": 2,
   "metadata": {},
   "outputs": [],
   "source": [
    "def getSpectrum(getA, a, b, N):\n",
    "    A = getA(a, b, N)\n",
    "    # np.random.seed(0)\n",
    "    # X = np.random.rand(N)\n",
    "    X = np.arange(N)\n",
    "    X1 = X\n",
    "    for _ in range(10):\n",
    "        X = X1\n",
    "        X1 = A.dot(X)\n",
    "    \n",
    "    lambda_ = np.sum(X1 * X1) / np.sum(X1 * X)\n",
    "        \n",
    "    return lambda_"
   ]
  },
  {
   "cell_type": "code",
   "execution_count": 3,
   "metadata": {},
   "outputs": [],
   "source": [
    "def RicherdsonExtrapolation(func, a, b, EPS=10, p=2, q=1, r=2, N=2, S=25):\n",
    "    U = np.zeros((S,S))\n",
    "    R = np.zeros((S,S))\n",
    "    p_eff = np.zeros((S,S))\n",
    "\n",
    "    s = 1\n",
    "    U[0][0] = getSpectrum(func, a, b, N)\n",
    "    while True:\n",
    "        \n",
    "        U[s][0] = getSpectrum(func, a, b, r**s*N)\n",
    "        for n in range(s):\n",
    "            \n",
    "            R[s][n] = (U[s][n] - U[s-1][n]) / (r**(p + n*q) - 1)\n",
    "            p_eff[s][n] = log(abs(R[s-1][n] / R[s][n])) / log(r)\n",
    "            U[s][n + 1] = U[s][n] + R[s][n]\n",
    "            \n",
    "            if 100 * abs(R[s][n] / U[s][n]) < EPS:\n",
    "                pt = p*(s-1)+n*q | p\n",
    "                return (U[s][n], R[s][n], p_eff[s][n], pt, s, n, U, R, p_eff) \n",
    "            \n",
    "        s += 1\n",
    "        if s > 23: \n",
    "            print('ololo')\n",
    "            return (U[s-1][s-1], R[s-1][s-1], p_eff[s-1][s-3], p + s*q, s, s, U, R, p_eff)"
   ]
  },
  {
   "cell_type": "code",
   "execution_count": 4,
   "metadata": {},
   "outputs": [],
   "source": [
    "def PrintTriangular(mas, i, lines=None):\n",
    "    if lines is None:\n",
    "        lines = len(mas)\n",
    "        \n",
    "    for line in range(1+lines):\n",
    "        for n in range(line + 1 - i):\n",
    "            print('{0:7.4f}'.format(mas[line][n]), end=' ')\n",
    "        print()"
   ]
  },
  {
   "cell_type": "code",
   "execution_count": 5,
   "metadata": {},
   "outputs": [],
   "source": [
    "def show_answer(ans):\n",
    "    re = \" \\\n",
    "Ответ: {0:12.10f}\\n \\\n",
    "Погрешность: {1:12.10f}\\n \\\n",
    "Ошибка: {2:6.4f}%\\n \\\n",
    "Эффективный порядок точности: {3:7.10f}\\n \\\n",
    "Теоретический порядок точности: {4:7.5f}\\n \\\n",
    "    \".format(ans[0], ans[1], 100*np.abs(ans[1]/ans[0]), ans[2], ans[3])\n",
    "    print(re)\n",
    "    PrintTriangular(ans[-3], 0, ans[4])\n",
    "    PrintTriangular(ans[-2], 1, ans[4])\n",
    "    PrintTriangular(ans[-1], 2, ans[4])"
   ]
  },
  {
   "cell_type": "markdown",
   "metadata": {},
   "source": [
    "#### Поиск минимального собсвенного значения задачи Штурма-Лиувилля при помощи алгоритма обратной итерации с использованием методики Ричердсона.\n",
    "$$\n",
    "\\begin{equation*}\n",
    " \\begin{cases}\n",
    "   U_{xx} + aU_x + \\lambda U = 0, \n",
    "   \\\\\n",
    "   U(0) = 0, U(1) = 0, \n",
    "   \\\\\n",
    "   x \\in [0, 1]\n",
    " \\end{cases}\n",
    "\\end{equation*}\n",
    "$$"
   ]
  },
  {
   "cell_type": "markdown",
   "metadata": {},
   "source": [
    "1. Данной задаче будет соответсвовать матрица A в бесконечномерном пространсве\n",
    "2. Если использовать в качестве производных их конечно разностную апроксимацию со вторым порядком точности, то коэффициенты данной матрицы будут выражаеться по формулам:\n",
    "   - $a_{n,n-1} = -\\frac{1}{h} - \\frac{a}{2h}$, $n = 2,..,N$\n",
    "   - $a_{n,n} = \\frac{2}{h^2}$, $n = 1,..,N$\n",
    "   - $a_{n,n+1} = \\frac{1}{h} + \\frac{a}{2h}$, $n = 1,..,N$\n",
    "   \n",
    "где a - любое число, h - шаг равномерной сетки по х\n",
    "\n",
    "3. Таким образом, получим систему уравнений $Ay = \\lambda y$, для которой можно применить метод обратной итерации, тогда \n",
    "   - $ \\frac{(x^{(s+1)},x^{(s+1)})}{(x^{(s)},x^{(s+1)})} = \\lambda_n \\rightarrow  \\lambda_{min}$, при $s \\rightarrow +\\infty$"
   ]
  },
  {
   "cell_type": "markdown",
   "metadata": {},
   "source": [
    "## Задача 1: Найти минимальное с.з задачи   ШТ\n",
    "$$\n",
    "\\begin{equation*}\n",
    " \\begin{cases}\n",
    "   U_{xx} + 4U_x + \\lambda U = 0, \n",
    "   \\\\\n",
    "   U(0) = 0, U(1) = 0, \n",
    "   \\\\\n",
    "   x \\in [0, 1]\n",
    " \\end{cases}\n",
    "\\end{equation*}\n",
    "$$"
   ]
  },
  {
   "cell_type": "code",
   "execution_count": 6,
   "metadata": {},
   "outputs": [],
   "source": [
    "def task1(a, b, N):\n",
    "    h = (b - a) / N\n",
    "    B = np.zeros((N, N))\n",
    "    \n",
    "    n = 0\n",
    "    xn = a\n",
    "    B[n][n] = 2/h**2\n",
    "    B[n][n+1] = 1/h + 2/h\n",
    "    for n in range(1, N-1):\n",
    "        xn += h \n",
    "        B[n][n-1] = -1/h - 2/h\n",
    "        B[n][n] = 2/h**2\n",
    "        B[n][n+1] = 1/h + 2/h\n",
    "    n += 1\n",
    "    xn += h\n",
    "    B[n][n-1] = -1/h - 2/h\n",
    "    B[n][n] = 2/h**2\n",
    "\n",
    "    A = np.linalg.inv(B)    \n",
    "    return A"
   ]
  },
  {
   "cell_type": "code",
   "execution_count": 7,
   "metadata": {},
   "outputs": [
    {
     "name": "stdout",
     "output_type": "stream",
     "text": [
      " Ответ: 0.0000000000\n",
      " Погрешность: 0.0000000000\n",
      " Ошибка: 0.8469%\n",
      " Эффективный порядок точности: 2.8445199547\n",
      " Теоретический порядок точности: 22.00000\n",
      "     \n",
      " 0.1250 \n",
      " 0.0312  0.0000 \n",
      " 0.0078  0.0000  0.0000 \n",
      " 0.0020  0.0000 -0.0000 -0.0000 \n",
      " 0.0005  0.0000  0.0000  0.0000  0.0000 \n",
      " 0.0001  0.0000 -0.0000 -0.0000 -0.0000 -0.0000 \n",
      " 0.0000 -0.0000 -0.0000 -0.0000 -0.0000 -0.0000 -0.0000 \n",
      " 0.0000  0.0000  0.0000  0.0000  0.0000  0.0000  0.0000  0.0000 \n",
      " 0.0000  0.0000  0.0000 -0.0000 -0.0000 -0.0000 -0.0000 -0.0000 -0.0000 \n",
      " 0.0000  0.0000  0.0000  0.0000  0.0000  0.0000  0.0000  0.0000  0.0000  0.0000 \n",
      "\n",
      "-0.0312 \n",
      "-0.0078  0.0000 \n",
      "-0.0020 -0.0000 -0.0000 \n",
      "-0.0005  0.0000  0.0000  0.0000 \n",
      "-0.0001 -0.0000 -0.0000 -0.0000 -0.0000 \n",
      "-0.0000 -0.0000  0.0000  0.0000  0.0000  0.0000 \n",
      "-0.0000  0.0000  0.0000  0.0000  0.0000  0.0000  0.0000 \n",
      "-0.0000  0.0000 -0.0000 -0.0000 -0.0000 -0.0000 -0.0000 -0.0000 \n",
      "-0.0000  0.0000  0.0000  0.0000  0.0000  0.0000  0.0000  0.0000  0.0000 \n",
      "\n",
      "\n",
      " 2.0000 \n",
      " 2.0000  0.0000 \n",
      " 2.0000  3.0000  2.1699 \n",
      " 2.0000  0.0000  0.8301  1.0356 \n",
      " 2.0000  4.0000  4.1699  3.2345  2.9521 \n",
      " 2.0000  0.0000 -0.1699  1.0000  1.4651  1.6934 \n",
      " 2.0000     inf  3.1699  2.4436  2.1240  1.9653  1.8850 \n",
      " 2.0000    -inf  3.0000  3.0589  2.9515  2.8819  2.8445  0.0000 \n"
     ]
    }
   ],
   "source": [
    "#EPS - в процентах \n",
    "ans = RicherdsonExtrapolation(task1, a=0, b=1, EPS=1)\n",
    "show_answer(ans)"
   ]
  },
  {
   "cell_type": "markdown",
   "metadata": {},
   "source": [
    "## Задача 2: Найти минимальное с.з задачи ШТ\n",
    "$$\n",
    "\\begin{equation*}\n",
    " \\begin{cases}\n",
    "   U_{xx} + 9xU_x + \\lambda U = 0, \n",
    "   \\\\\n",
    "   U(0) = 0, U(1) = 0, \n",
    "   \\\\\n",
    "   x \\in [0, 1]\n",
    " \\end{cases}\n",
    "\\end{equation*}\n",
    "$$\n",
    "\n",
    "Тогда матрица задачи будет задоваться:\n",
    "   - $a_{n,n-1} = -\\frac{1}{h} - \\frac{9x_n}{2h}$, $n = 2,..,N$\n",
    "   - $a_{n,n} = \\frac{2}{h^2}$, $n = 1,..,N$\n",
    "   - $a_{n,n+1} = \\frac{1}{h} + \\frac{9x_n}{2h}$, $n = 1,..,N$\n",
    "   \n",
    "где $x_n = x_0 + hn$"
   ]
  },
  {
   "cell_type": "code",
   "execution_count": 8,
   "metadata": {},
   "outputs": [],
   "source": [
    "def task2(a, b, N):\n",
    "    h = (b - a) / N\n",
    "    B = np.zeros((N, N))\n",
    "    \n",
    "    n = 0\n",
    "    xn = a\n",
    "    B[n][n] = 2/h**2\n",
    "    B[n][n+1] = 1/h + 9*(xn+h)/(2*h)\n",
    "    for n in range(1, N-1):\n",
    "        xn += h \n",
    "        B[n][n-1] = -1/h - 9*xn/(2*h)\n",
    "        B[n][n] = 2/h**2\n",
    "        B[n][n+1] = 1/h + 9*(xn+h)/(2*h)\n",
    "    n += 1\n",
    "    xn += h\n",
    "    B[n][n-1] = -1/h - 9*xn/(2*h)\n",
    "    B[n][n] = 2/h**2\n",
    "\n",
    "    \n",
    "        \n",
    "    A = np.linalg.inv(B)    \n",
    "    return A"
   ]
  },
  {
   "cell_type": "code",
   "execution_count": 9,
   "metadata": {},
   "outputs": [
    {
     "name": "stdout",
     "output_type": "stream",
     "text": [
      " Ответ: 0.0000000000\n",
      " Погрешность: 0.0000000000\n",
      " Ошибка: 2.6109%\n",
      " Эффективный порядок точности: 2.4933096285\n",
      " Теоретический порядок точности: 18.00000\n",
      "     \n",
      " 0.1250 \n",
      " 0.0312  0.0000 \n",
      " 0.0078 -0.0000 -0.0000 \n",
      " 0.0020 -0.0000 -0.0000 -0.0000 \n",
      " 0.0005  0.0000  0.0000  0.0000  0.0000 \n",
      " 0.0001  0.0000 -0.0000 -0.0000 -0.0000 -0.0000 \n",
      " 0.0000 -0.0000 -0.0000 -0.0000 -0.0000 -0.0000 -0.0000 \n",
      " 0.0000  0.0000  0.0000  0.0000  0.0000  0.0000  0.0000  0.0000 \n",
      "\n",
      "-0.0312 \n",
      "-0.0078 -0.0000 \n",
      "-0.0020  0.0000  0.0000 \n",
      "-0.0005  0.0000  0.0000  0.0000 \n",
      "-0.0001 -0.0000 -0.0000 -0.0000 -0.0000 \n",
      "-0.0000 -0.0000  0.0000  0.0000  0.0000  0.0000 \n",
      "-0.0000  0.0000  0.0000  0.0000  0.0000  0.0000  0.0000 \n",
      "\n",
      "\n",
      " 2.0000 \n",
      " 2.0000  2.0000 \n",
      " 2.0000 -2.0000 -1.3692 \n",
      " 2.0000  2.0000  1.3692  1.1180 \n",
      " 2.0000  5.0000  4.0000  3.2159  2.9428 \n",
      " 2.0000 -0.7004  0.7776  1.9411  2.4933  0.0000 \n"
     ]
    }
   ],
   "source": [
    "#EPS - в процентах \n",
    "ans1 = RicherdsonExtrapolation(task2, a=0, b=1, EPS=3)\n",
    "show_answer(ans1)"
   ]
  },
  {
   "cell_type": "code",
   "execution_count": null,
   "metadata": {},
   "outputs": [],
   "source": []
  }
 ],
 "metadata": {
  "kernelspec": {
   "display_name": "Python 3",
   "language": "python",
   "name": "python3"
  },
  "language_info": {
   "codemirror_mode": {
    "name": "ipython",
    "version": 3
   },
   "file_extension": ".py",
   "mimetype": "text/x-python",
   "name": "python",
   "nbconvert_exporter": "python",
   "pygments_lexer": "ipython3",
   "version": "3.8.3"
  }
 },
 "nbformat": 4,
 "nbformat_minor": 4
}
