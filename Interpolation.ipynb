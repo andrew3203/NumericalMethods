{
 "cells": [
  {
   "cell_type": "code",
   "execution_count": 1,
   "metadata": {},
   "outputs": [
    {
     "name": "stdout",
     "output_type": "stream",
     "text": [
      "Populating the interactive namespace from numpy and matplotlib\n"
     ]
    }
   ],
   "source": [
    "import numpy as np\n",
    "import matplotlib.pyplot as plt\n",
    "\n",
    "%pylab inline\n"
   ]
  },
  {
   "cell_type": "code",
   "execution_count": 5,
   "metadata": {},
   "outputs": [
    {
     "ename": "TypeError",
     "evalue": "an integer is required (got type function)",
     "output_type": "error",
     "traceback": [
      "\u001b[0;31m---------------------------------------------------------------------------\u001b[0m",
      "\u001b[0;31mTypeError\u001b[0m                                 Traceback (most recent call last)",
      "\u001b[0;32m<ipython-input-5-9d7aa119b2b3>\u001b[0m in \u001b[0;36m<module>\u001b[0;34m\u001b[0m\n\u001b[1;32m     13\u001b[0m     \u001b[0;32mreturn\u001b[0m \u001b[0mabs\u001b[0m\u001b[0;34m(\u001b[0m\u001b[0mx0\u001b[0m\u001b[0;34m-\u001b[0m\u001b[0mx\u001b[0m\u001b[0;34m[\u001b[0m\u001b[0ma\u001b[0m\u001b[0;34m]\u001b[0m\u001b[0;34m)\u001b[0m\u001b[0;34m\u001b[0m\u001b[0;34m\u001b[0m\u001b[0m\n\u001b[1;32m     14\u001b[0m \u001b[0;34m\u001b[0m\u001b[0m\n\u001b[0;32m---> 15\u001b[0;31m \u001b[0mindex\u001b[0m\u001b[0;34m.\u001b[0m\u001b[0msort\u001b[0m\u001b[0;34m(\u001b[0m\u001b[0;32mlambda\u001b[0m \u001b[0mt\u001b[0m\u001b[0;34m:\u001b[0m \u001b[0mx0\u001b[0m \u001b[0;34m-\u001b[0m \u001b[0mx\u001b[0m\u001b[0;34m[\u001b[0m\u001b[0mt\u001b[0m\u001b[0;34m]\u001b[0m\u001b[0;34m)\u001b[0m\u001b[0;34m\u001b[0m\u001b[0;34m\u001b[0m\u001b[0m\n\u001b[0m\u001b[1;32m     16\u001b[0m \u001b[0mx_prep\u001b[0m \u001b[0;34m=\u001b[0m \u001b[0mx\u001b[0m\u001b[0;34m[\u001b[0m\u001b[0mindex\u001b[0m\u001b[0;34m]\u001b[0m\u001b[0;34m\u001b[0m\u001b[0;34m\u001b[0m\u001b[0m\n\u001b[1;32m     17\u001b[0m \u001b[0mx_prep\u001b[0m \u001b[0;34m=\u001b[0m \u001b[0mx\u001b[0m\u001b[0;34m[\u001b[0m\u001b[0mu_prep\u001b[0m\u001b[0;34m]\u001b[0m\u001b[0;34m\u001b[0m\u001b[0;34m\u001b[0m\u001b[0m\n",
      "\u001b[0;31mTypeError\u001b[0m: an integer is required (got type function)"
     ]
    }
   ],
   "source": [
    "N = 10\n",
    "x = np.linspace(1, 4.5, N)\n",
    "f = lambda x: x**2\n",
    "u = f(x)\n",
    "\n",
    "N=len(x)-1\n",
    "eps0=0.001\n",
    "x0=3.7\n",
    "\n",
    "index = np.arange(0, N+1)\n",
    "index.sort(key=lambda t: x0 - x[t])\n",
    "x_prep = x[index]\n",
    "x_prep = x[u_prep]\n",
    "\n",
    "def get_y(x, u, N, x0):\n",
    "    m = np.zeros(N, N)\n",
    "    for i in range(N):                          \n",
    "        m[i][0] = (u[i+1]-u[i])/(x[i+1]-x[i])     \n",
    "\n",
    "    for i in range(1, N):                        \n",
    "        for j in range(N-i):                    \n",
    "            m[j][i] = (m[j+1][i-1]-m[j][i-1])/(x[i+1+j]-x[j])\n",
    "                                                \n",
    "    res = u[0]\n",
    "    for i in range(N):\n",
    "        P = 1\n",
    "        for j in range(i + 1):\n",
    "            P*=(x0-x[j])\n",
    "        res += a[i]*P\n",
    "    \n",
    "    return res\n",
    "  \n",
    "\n",
    "y0 = get_y(x_prep,u_prep,0,x0)\n",
    "eps = eps0 + 1\n",
    "i = 1\n",
    "\n",
    "while eps > eps0:\n",
    "    y = y0\n",
    "    y0 = get_y(x_prep, u_prep, i, x0)\n",
    "    eps_ = eps\n",
    "    eps = abs(y0 - y)\n",
    "    if eps_ - eps < 0:\n",
    "        i += 1\n",
    "        y0 = y\n",
    "        eps = eps_\n",
    "        break\n",
    "    if i == N :\n",
    "        i += 1\n",
    "        break\n",
    "    i += 1\n",
    "    \n",
    "print(\"y0 = {1}\\nРеальная точность =  {2}\\nЖелаемая точность = {3}\".format(y0, eps, eps0, ))"
   ]
  },
  {
   "cell_type": "code",
   "execution_count": null,
   "metadata": {},
   "outputs": [],
   "source": []
  }
 ],
 "metadata": {
  "kernelspec": {
   "display_name": "Python 3",
   "language": "python",
   "name": "python3"
  },
  "language_info": {
   "codemirror_mode": {
    "name": "ipython",
    "version": 3
   },
   "file_extension": ".py",
   "mimetype": "text/x-python",
   "name": "python",
   "nbconvert_exporter": "python",
   "pygments_lexer": "ipython3",
   "version": "3.8.3"
  }
 },
 "nbformat": 4,
 "nbformat_minor": 4
}
