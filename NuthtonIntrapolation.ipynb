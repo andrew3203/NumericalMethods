{
 "cells": [
  {
   "cell_type": "code",
   "execution_count": 26,
   "metadata": {},
   "outputs": [
    {
     "data": {
      "text/plain": [
       "array([[0.        , 0.        , 0.        , 0.        , 0.        ],\n",
       "       [0.47942554, 0.        , 0.        , 0.        , 0.        ],\n",
       "       [0.84147098, 0.        , 0.        , 0.        , 0.        ],\n",
       "       [0.99749499, 0.        , 0.        , 0.        , 0.        ],\n",
       "       [0.90929743, 0.        , 0.        , 0.        , 0.        ]])"
      ]
     },
     "execution_count": 26,
     "metadata": {},
     "output_type": "execute_result"
    }
   ],
   "source": [
    "import numpy as np\n",
    "\n",
    "def func(x):\n",
    "    return np.sin(x)\n",
    "\n",
    "\n",
    "def factorial(n):\n",
    "    res = 1\n",
    "    for i in range(1, n+1):\n",
    "        res *= i\n",
    "        \n",
    "    return res  \n",
    "\n",
    "\n",
    "N = 5\n",
    "x = np.linspace(0, 2, N)\n",
    "u = np.zeros((N, N))\n",
    "\n",
    "u[:, 0] = func(x)\n",
    "P = 0\n",
    "u"
   ]
  },
  {
   "cell_type": "code",
   "execution_count": 27,
   "metadata": {},
   "outputs": [
    {
     "data": {
      "text/plain": [
       "array([[ 0.        ,  0.        ,  0.        ,  0.        ,  0.        ],\n",
       "       [ 0.47942554,  0.72409089,  0.        ,  0.        ,  0.        ],\n",
       "       [ 0.84147098,  0.312048  , -0.97688625,  0.        ,  0.        ],\n",
       "       [ 0.99749499, -0.17639512,  0.        ,  0.        ,  0.        ],\n",
       "       [ 0.90929743,  0.        ,  0.        ,  0.        ,  0.        ]])"
      ]
     },
     "execution_count": 27,
     "metadata": {},
     "output_type": "execute_result"
    }
   ],
   "source": [
    "for k in range(1, N):\n",
    "    for n in range(k, N-k):\n",
    "        u[n][k] = k * (u[n][k-1] - u[n+1][k-1]) / (x[n] - x[n+k])\n",
    "u"
   ]
  },
  {
   "cell_type": "code",
   "execution_count": null,
   "metadata": {},
   "outputs": [],
   "source": [
    "def Intrapotarion(x):\n",
    "    U = 0\n",
    "    for n in range(N):\n",
    "        U += u[0][n]  / factorial(n)*x**n\n",
    "    "
   ]
  }
 ],
 "metadata": {
  "kernelspec": {
   "display_name": "Python 3",
   "language": "python",
   "name": "python3"
  },
  "language_info": {
   "codemirror_mode": {
    "name": "ipython",
    "version": 3
   },
   "file_extension": ".py",
   "mimetype": "text/x-python",
   "name": "python",
   "nbconvert_exporter": "python",
   "pygments_lexer": "ipython3",
   "version": "3.8.3"
  }
 },
 "nbformat": 4,
 "nbformat_minor": 4
}
