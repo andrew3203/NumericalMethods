{
 "cells": [
  {
   "cell_type": "markdown",
   "metadata": {},
   "source": [
    "# Метод Ньютона и Дихотамии\n",
    "\n",
    "1. Реализовать **метод Ньютона** с конфигурациями:\n",
    "    - С точностью ```E = 0.1```\n",
    "    - С точностью ```E = 0.01```\n",
    "    - С учетом кратности корня\n",
    "2. Реализовать **метод Дихотамии** с конфигурациями:\n",
    "    - С точностью ```E = 0.1```\n",
    "    - С точностью ```E = 0.01```\n",
    "\n",
    "\n",
    "В качестве примера взять функцию ```(x - 1)(x - 2)^2(x - 3)^3 = 0```"
   ]
  },
  {
   "cell_type": "code",
   "execution_count": 1,
   "metadata": {},
   "outputs": [
    {
     "name": "stdout",
     "output_type": "stream",
     "text": [
      "Populating the interactive namespace from numpy and matplotlib\n"
     ]
    },
    {
     "data": {
      "text/plain": [
       "Text(0, 0.5, 'Y')"
      ]
     },
     "execution_count": 1,
     "metadata": {},
     "output_type": "execute_result"
    },
    {
     "data": {
      "image/png": "[encoded data removed]",
      "text/plain": [
       "<Figure size 432x288 with 1 Axes>"
      ]
     },
     "metadata": {},
     "output_type": "display_data"
    }
   ],
   "source": [
    "import numpy as np\n",
    "import pandas as pd\n",
    "import matplotlib.pyplot as plt\n",
    "\n",
    "%pylab inline\n",
    "plt.style.use('seaborn-dark')\n",
    "plt.rc('font', size=14)\n",
    "\n",
    "import warnings\n",
    "warnings.filterwarnings(\"ignore\")\n",
    "\n",
    "\n",
    "def func(x):\n",
    "    return (x - 1) * (x - 2)**2 * (x - 3)**3\n",
    "\n",
    "x = np.linspace(0.95, 3.4, 100)\n",
    "fig = plt.figure()\n",
    "plt.plot(x, [func(num) for num in x])\n",
    "plt.scatter(1, 0)\n",
    "plt.scatter(2, 0)\n",
    "plt.scatter(3, 0)\n",
    "plt.grid(lw=1)\n",
    "plt.xlabel('X')\n",
    "plt.ylabel('Y')"
   ]
  },
  {
   "cell_type": "code",
   "execution_count": 2,
   "metadata": {},
   "outputs": [],
   "source": [
    "def derivative(f, x, dx):\n",
    "    return (f(x+dx) - f(x-dx))/(2*dx)"
   ]
  },
  {
   "cell_type": "markdown",
   "metadata": {},
   "source": [
    "## 1. Метод Ньютона"
   ]
  },
  {
   "cell_type": "code",
   "execution_count": 3,
   "metadata": {},
   "outputs": [
    {
     "data": {
      "text/html": [
       "<div>\n",
       "<style scoped>\n",
       "    .dataframe tbody tr th:only-of-type {\n",
       "        vertical-align: middle;\n",
       "    }\n",
       "\n",
       "    .dataframe tbody tr th {\n",
       "        vertical-align: top;\n",
       "    }\n",
       "\n",
       "    .dataframe thead th {\n",
       "        text-align: right;\n",
       "    }\n",
       "</style>\n",
       "<table border=\"1\" class=\"dataframe\">\n",
       "  <thead>\n",
       "    <tr style=\"text-align: right;\">\n",
       "      <th></th>\n",
       "      <th>Корнь</th>\n",
       "      <th>Кратность</th>\n",
       "      <th>Итерации</th>\n",
       "    </tr>\n",
       "  </thead>\n",
       "  <tbody>\n",
       "    <tr>\n",
       "      <th>0</th>\n",
       "      <td>1.000000</td>\n",
       "      <td>1.000460</td>\n",
       "      <td>4</td>\n",
       "    </tr>\n",
       "    <tr>\n",
       "      <th>1</th>\n",
       "      <td>2.004311</td>\n",
       "      <td>2.025970</td>\n",
       "      <td>8</td>\n",
       "    </tr>\n",
       "    <tr>\n",
       "      <th>2</th>\n",
       "      <td>3.004922</td>\n",
       "      <td>3.045346</td>\n",
       "      <td>18</td>\n",
       "    </tr>\n",
       "  </tbody>\n",
       "</table>\n",
       "</div>"
      ],
      "text/plain": [
       "      Корнь  Кратность  Итерации\n",
       "0  1.000000   1.000460         4\n",
       "1  2.004311   2.025970         8\n",
       "2  3.004922   3.045346        18"
      ]
     },
     "execution_count": 3,
     "metadata": {},
     "output_type": "execute_result"
    }
   ],
   "source": [
    "def nuton_simple(f, x0, EPS=1e-6, xn=None, x=0):\n",
    "    t, t0, tn = x, x0, xn\n",
    "    \n",
    "    count = 0\n",
    "    while count < 100:\n",
    "        \n",
    "        try:\n",
    "            xn = x0 - f(x0) / derivative(f, x0, 0.0001)\n",
    "            count += 1\n",
    "        except ZeroDivisionError as e:\n",
    "            return None\n",
    "        \n",
    "        q = (xn - x0) / (x0 - x)\n",
    "        if abs((xn - x0)/(1 - q)) < EPS:            \n",
    "            p = 1 / (1 - q)\n",
    "            solver = lambda x: f(x) / (abs(x - xn))**(p)\n",
    "            ans = nuton_simple(solver, t0, EPS, tn, t)\n",
    "            if ans is not None:\n",
    "                res = [t for t in ans]\n",
    "                res.append([xn, p, count])\n",
    "                return  res\n",
    "            else:\n",
    "                return [[xn, p, count],]\n",
    "        \n",
    "        else:\n",
    "            x, x0 = x0, xn\n",
    "    \n",
    "    return None\n",
    "\n",
    "EPS = 0.01\n",
    "res = nuton_simple(func, 5, EPS)\n",
    "pd.DataFrame(res, index=range(len(res)), columns=['Корнь', 'Кратность', 'Итерации'])"
   ]
  },
  {
   "cell_type": "code",
   "execution_count": 4,
   "metadata": {},
   "outputs": [
    {
     "data": {
      "text/html": [
       "<div>\n",
       "<style scoped>\n",
       "    .dataframe tbody tr th:only-of-type {\n",
       "        vertical-align: middle;\n",
       "    }\n",
       "\n",
       "    .dataframe tbody tr th {\n",
       "        vertical-align: top;\n",
       "    }\n",
       "\n",
       "    .dataframe thead th {\n",
       "        text-align: right;\n",
       "    }\n",
       "</style>\n",
       "<table border=\"1\" class=\"dataframe\">\n",
       "  <thead>\n",
       "    <tr style=\"text-align: right;\">\n",
       "      <th></th>\n",
       "      <th>Корнь</th>\n",
       "      <th>Кратность</th>\n",
       "      <th>Итерации</th>\n",
       "    </tr>\n",
       "  </thead>\n",
       "  <tbody>\n",
       "    <tr>\n",
       "      <th>0</th>\n",
       "      <td>2.027149</td>\n",
       "      <td>2.180466</td>\n",
       "      <td>11</td>\n",
       "    </tr>\n",
       "    <tr>\n",
       "      <th>1</th>\n",
       "      <td>3.052913</td>\n",
       "      <td>3.430314</td>\n",
       "      <td>12</td>\n",
       "    </tr>\n",
       "  </tbody>\n",
       "</table>\n",
       "</div>"
      ],
      "text/plain": [
       "      Корнь  Кратность  Итерации\n",
       "0  2.027149   2.180466        11\n",
       "1  3.052913   3.430314        12"
      ]
     },
     "execution_count": 4,
     "metadata": {},
     "output_type": "execute_result"
    }
   ],
   "source": [
    "EPS = 0.1\n",
    "res = nuton_simple(func, 5, EPS)\n",
    "pd.DataFrame(res, index=range(len(res)), columns=['Корнь', 'Кратность', 'Итерации'])"
   ]
  },
  {
   "cell_type": "markdown",
   "metadata": {},
   "source": [
    "## 2. Метод Дихотамии"
   ]
  },
  {
   "cell_type": "code",
   "execution_count": 5,
   "metadata": {},
   "outputs": [
    {
     "data": {
      "text/plain": [
       "Text(0, 0.5, 'Y')"
      ]
     },
     "execution_count": 5,
     "metadata": {},
     "output_type": "execute_result"
    },
    {
     "data": {
      "image/png": "[encoded data removed]",
      "text/plain": [
       "<Figure size 432x288 with 1 Axes>"
      ]
     },
     "metadata": {},
     "output_type": "display_data"
    }
   ],
   "source": [
    "x = np.linspace(0.95, 3.5, 100)\n",
    "fig = plt.figure()\n",
    "plt.plot(x, [func(num) for num in x])\n",
    "plt.scatter(1, 0)\n",
    "plt.scatter(2, 0)\n",
    "plt.scatter(3, 0)\n",
    "plt.grid(lw=1)\n",
    "plt.xlabel('X')\n",
    "plt.ylabel('Y')"
   ]
  },
  {
   "cell_type": "code",
   "execution_count": 6,
   "metadata": {},
   "outputs": [
    {
     "data": {
      "text/html": [
       "<div>\n",
       "<style scoped>\n",
       "    .dataframe tbody tr th:only-of-type {\n",
       "        vertical-align: middle;\n",
       "    }\n",
       "\n",
       "    .dataframe tbody tr th {\n",
       "        vertical-align: top;\n",
       "    }\n",
       "\n",
       "    .dataframe thead th {\n",
       "        text-align: right;\n",
       "    }\n",
       "</style>\n",
       "<table border=\"1\" class=\"dataframe\">\n",
       "  <thead>\n",
       "    <tr style=\"text-align: right;\">\n",
       "      <th></th>\n",
       "      <th>Корнь</th>\n",
       "      <th>Итерации</th>\n",
       "    </tr>\n",
       "  </thead>\n",
       "  <tbody>\n",
       "    <tr>\n",
       "      <th>0</th>\n",
       "      <td>2.994141</td>\n",
       "      <td>9</td>\n",
       "    </tr>\n",
       "    <tr>\n",
       "      <th>1</th>\n",
       "      <td>1.001953</td>\n",
       "      <td>9</td>\n",
       "    </tr>\n",
       "  </tbody>\n",
       "</table>\n",
       "</div>"
      ],
      "text/plain": [
       "      Корнь  Итерации\n",
       "0  2.994141         9\n",
       "1  1.001953         9"
      ]
     },
     "execution_count": 6,
     "metadata": {},
     "output_type": "execute_result"
    }
   ],
   "source": [
    "def dehotami_simple(f, x1, x2, EPS=0.1):\n",
    "    t1, t2, = x1, x2\n",
    "    \n",
    "    count = 0\n",
    "    while count < 100:\n",
    "        count += 1\n",
    "        x = (x1 + x2) / 2\n",
    "        \n",
    "        if abs(x1 - x2) < 2*EPS:\n",
    "            solver = lambda val: f(val) / (val - x)\n",
    "            ans = dehotami_simple(solver, t1, t2, EPS)\n",
    "            \n",
    "            if ans is not None:\n",
    "                res = [t for t in ans]\n",
    "                res.append([x, count])\n",
    "                return res\n",
    "            else:\n",
    "                return [[x, count],]\n",
    "        \n",
    "        if f(x1)*f(x) <= 0:\n",
    "            x2 = x\n",
    "        elif f(x2)*f(x) <=0 :\n",
    "            x1 = x\n",
    "        else:\n",
    "            tmp = np.random.random()*(x2-x1) + x1\n",
    "            if f(tmp)*f(x1) <= 0:\n",
    "                x2 = tmp\n",
    "            elif f(tmp)*f(x2) <= 0:\n",
    "                x1 = tmp\n",
    "            \n",
    "    return None\n",
    "\n",
    "EPS = 0.01\n",
    "res = dehotami_simple(func, -1, 4, EPS)\n",
    "pd.DataFrame(res, index=range(len(res)), columns=['Корнь', 'Итерации'])"
   ]
  },
  {
   "cell_type": "code",
   "execution_count": 7,
   "metadata": {},
   "outputs": [
    {
     "data": {
      "text/html": [
       "<div>\n",
       "<style scoped>\n",
       "    .dataframe tbody tr th:only-of-type {\n",
       "        vertical-align: middle;\n",
       "    }\n",
       "\n",
       "    .dataframe tbody tr th {\n",
       "        vertical-align: top;\n",
       "    }\n",
       "\n",
       "    .dataframe thead th {\n",
       "        text-align: right;\n",
       "    }\n",
       "</style>\n",
       "<table border=\"1\" class=\"dataframe\">\n",
       "  <thead>\n",
       "    <tr style=\"text-align: right;\">\n",
       "      <th></th>\n",
       "      <th>Корнь</th>\n",
       "      <th>Итерации</th>\n",
       "    </tr>\n",
       "  </thead>\n",
       "  <tbody>\n",
       "    <tr>\n",
       "      <th>0</th>\n",
       "      <td>2.999634</td>\n",
       "      <td>13</td>\n",
       "    </tr>\n",
       "    <tr>\n",
       "      <th>1</th>\n",
       "      <td>1.000122</td>\n",
       "      <td>13</td>\n",
       "    </tr>\n",
       "  </tbody>\n",
       "</table>\n",
       "</div>"
      ],
      "text/plain": [
       "      Корнь  Итерации\n",
       "0  2.999634        13\n",
       "1  1.000122        13"
      ]
     },
     "execution_count": 7,
     "metadata": {},
     "output_type": "execute_result"
    }
   ],
   "source": [
    "EPS = 0.001\n",
    "res = dehotami_simple(func, -1, 4, EPS)\n",
    "pd.DataFrame(res, index=range(len(res)), columns=['Корнь', 'Итерации'])"
   ]
  }
 ],
 "metadata": {
  "kernelspec": {
   "display_name": "Python 3",
   "language": "python",
   "name": "python3"
  },
  "language_info": {
   "codemirror_mode": {
    "name": "ipython",
    "version": 3
   },
   "file_extension": ".py",
   "mimetype": "text/x-python",
   "name": "python",
   "nbconvert_exporter": "python",
   "pygments_lexer": "ipython3",
   "version": "3.7.6"
  }
 },
 "nbformat": 4,
 "nbformat_minor": 4
}
