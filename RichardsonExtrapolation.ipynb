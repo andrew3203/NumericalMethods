{
 "cells": [
  {
   "cell_type": "markdown",
   "metadata": {},
   "source": [
    "## Метод трапеций с приминением методики _Ричерсона_\n",
    "\n",
    "    - реализовать численный подсчет интеграла методом трапеци с исполльзованием методики _Ричерсона_\n",
    "    \n",
    "**Входные данные:** ```U(x), a, b, N, R, S```, соответсвенно функция, подлежащая интегрированию, пределы интегрирования, количество слагаемых в сумме Дорбу, коэфициент сгущения и число сеток"
   ]
  },
  {
   "cell_type": "code",
   "execution_count": 1,
   "metadata": {},
   "outputs": [
    {
     "name": "stdout",
     "output_type": "stream",
     "text": [
      "Populating the interactive namespace from numpy and matplotlib\n"
     ]
    }
   ],
   "source": [
    "import numpy as np\n",
    "import matplotlib.pyplot as plt\n",
    "\n",
    "%pylab inline\n",
    "plt.style.use('seaborn-dark')\n",
    "plt.rc('font', size=15)\n",
    "\n",
    "import warnings\n",
    "warnings.filterwarnings(\"ignore\")"
   ]
  },
  {
   "cell_type": "code",
   "execution_count": 2,
   "metadata": {},
   "outputs": [
    {
     "data": {
      "image/png": "[encoded data removed]",
      "text/plain": [
       "<Figure size 432x288 with 1 Axes>"
      ]
     },
     "metadata": {},
     "output_type": "display_data"
    }
   ],
   "source": [
    "def func(x):\n",
    "    return 1 / (1 + x**2)\n",
    "\n",
    "fig = plt.figure()\n",
    "X = np.linspace(-1, 1, 100)\n",
    "Y = [func(x) for x in X]\n",
    "plt.plot(X, Y)\n",
    "plt.grid(lw=1)"
   ]
  },
  {
   "cell_type": "code",
   "execution_count": 8,
   "metadata": {},
   "outputs": [
    {
     "name": "stdout",
     "output_type": "stream",
     "text": [
      " 0.7500 \n",
      " 0.7750  0.7833 \n",
      " 0.7828  0.7854  0.7855 \n",
      " 0.7847  0.7854  0.7854  0.7854 \n",
      " 0.7852  0.7854  0.7854  0.7854  0.7854 \n",
      " 0.7854  0.7854  0.7854  0.7854  0.7854  0.7854 \n",
      " 0.7854  0.7854  0.7854  0.7854  0.7854  0.7854  0.7854 \n",
      " 0.7854  0.7854  0.7854  0.7854  0.7854  0.7854  0.7854  0.7854 \n",
      "\n",
      " 0.0083 \n",
      " 0.0026  0.0001 \n",
      " 0.0007  0.0000 -0.0000 \n",
      " 0.0002  0.0000 -0.0000  0.0000 \n",
      " 0.0000  0.0000 -0.0000  0.0000 -0.0000 \n",
      " 0.0000  0.0000 -0.0000 -0.0000 -0.0000 -0.0000 \n",
      " 0.0000  0.0000 -0.0000 -0.0000 -0.0000  0.0000  0.0000 \n",
      "\n",
      "\n",
      " 1.6815 \n",
      " 1.9967  8.4302 \n",
      " 1.9999  7.3263  8.5132 \n",
      " 2.0000  5.9978  7.5906  8.8175 \n",
      " 2.0000  5.9998  5.9972 15.9918  7.6029 \n",
      " 2.0000  6.0023  5.9987  7.0362 16.0393  9.7146 \n"
     ]
    }
   ],
   "source": [
    "def Integration(u, a, b, N):\n",
    "    h = (b - a)/N\n",
    "    x = linspace(a, b, N+1)\n",
    "    integral = 0.\n",
    "    for n in range(1, N+1):\n",
    "        integral = integral + (u(x[n-1]) + u(x[n])) / 2*h \n",
    "    return integral\n",
    "\n",
    "def PrintTriangular(mas, i):\n",
    "    for m in range(len(mas)):\n",
    "        \n",
    "        for n in range(m + 1 - i):\n",
    "            print('{0:7.4f}'.format(mas[m][n]), end=' ')\n",
    "        \n",
    "        print()\n",
    "\n",
    "a = 0. \n",
    "b = 1.\n",
    "N = 1\n",
    "r = 2\n",
    "p = 2\n",
    "q = 2\n",
    "S = 8\n",
    "\n",
    "U = np.zeros((S,S))\n",
    "R = np.zeros((S,S))\n",
    "p_eff = np.zeros((S,S))\n",
    "\n",
    "for s in range(S):\n",
    "    U[s][0] = Integration(func, a, b, r**s*N)\n",
    "    \n",
    "for s in range(1, S):\n",
    "    for n in range(s):\n",
    "        R[s][n] = (U[s][n] - U[s-1][n]) / (r**(p + n*q) - 1)\n",
    "        U[s][n + 1] = U[s][n] + R[s][n]\n",
    "    \n",
    "for s in range(2, S):\n",
    "    for n in range(s - 1):\n",
    "        p_eff[s][n] = log(abs(R[s-1][n]/R[s,n])) / log(r)\n",
    "    \n",
    "PrintTriangular(U,0)\n",
    "PrintTriangular(R,1)\n",
    "PrintTriangular(p_eff,2)\n"
   ]
  },
  {
   "cell_type": "code",
   "execution_count": 76,
   "metadata": {},
   "outputs": [
    {
     "name": "stdout",
     "output_type": "stream",
     "text": [
      "Ответ: 0.7853981634\n",
      "Погрешность: -0.0000000000\n",
      "Эфективный порядок точности: 15.99183\n",
      "Теоретический порядок точности: 8.00000 "
     ]
    }
   ],
   "source": [
    "a = 0. \n",
    "b = 1.\n",
    "N = 1\n",
    "r = 2\n",
    "p = 2\n",
    "q = 2\n",
    "S = 8\n",
    "EPS = 15\n",
    "U = np.zeros((S,S))\n",
    "R = np.zeros((S,S))\n",
    "p_eff = np.zeros((S,S))\n",
    "\n",
    "s = 0\n",
    "ans = None\n",
    "while True:\n",
    "    U[s][0] = Integration(func, a, b, r**s*N)\n",
    "    \n",
    "    for n in range(s):\n",
    "        R[s][n] = (U[s][n] - U[s-1][n]) / (r**(p + n*q) - 1)\n",
    "        p_eff[s][n] = log(abs(R[s-1][n]/R[s][n])) / log(r)\n",
    "        if abs(R[s][n])  < 10**(-EPS):\n",
    "            \n",
    "            ans = (R[s][n], U[s][n], p_eff[s][n], p + n*q, s, n)\n",
    "            exit = True\n",
    "            break\n",
    "        \n",
    "        U[s][n + 1] = U[s][n] + R[s][n]\n",
    "        \n",
    "        \n",
    "    s += 1\n",
    "    \n",
    "    if ans is not None: \n",
    "        break\n",
    "    \n",
    "print('Ответ: {0:12.10f}\\nПогрешность: {1:12.10f}\\nЭфективный порядок точности: {2:7.5f}\\nТеоретический порядок точности: {3:7.5f}'.format(ans[1], ans[0], ans[2], ans[3]), end=' ')\n",
    "\n"
   ]
  },
  {
   "cell_type": "code",
   "execution_count": 74,
   "metadata": {},
   "outputs": [
    {
     "name": "stdout",
     "output_type": "stream",
     "text": [
      " 0.7500 \n",
      " 0.7750  0.7833 \n",
      " 0.7828  0.7854  0.7855 \n",
      " 0.7847  0.7854  0.7854  0.7854 \n",
      " 0.7852  0.7854  0.7854  0.7854  0.7854 \n",
      " 0.7854  0.7854  0.7854  0.7854  0.7854  0.7854 \n",
      " 0.7854  0.7854  0.7854  0.7854  0.0000  0.0000  0.0000 \n",
      " 0.0000  0.0000  0.0000  0.0000  0.0000  0.0000  0.0000  0.0000 \n",
      "\n",
      " 0.0083 \n",
      " 0.0026  0.0001 \n",
      " 0.0007  0.0000 -0.0000 \n",
      " 0.0002  0.0000 -0.0000  0.0000 \n",
      " 0.0000  0.0000 -0.0000  0.0000 -0.0000 \n",
      " 0.0000  0.0000 -0.0000 -0.0000  0.0000  0.0000 \n",
      " 0.0000  0.0000  0.0000  0.0000  0.0000  0.0000  0.0000 \n",
      "\n",
      "\n",
      " 1.6815 \n",
      " 1.9967  8.4302 \n",
      " 1.9999  7.3263  8.5132 \n",
      " 2.0000  5.9978  7.5906  8.8175 \n",
      " 2.0000  5.9998  5.9972 15.9918  0.0000 \n",
      " 0.0000  0.0000  0.0000  0.0000  0.0000  0.0000 \n"
     ]
    }
   ],
   "source": [
    "PrintTriangular(U,0)\n",
    "PrintTriangular(R,1)\n",
    "PrintTriangular(p_eff,2)"
   ]
  },
  {
   "cell_type": "code",
   "execution_count": null,
   "metadata": {},
   "outputs": [],
   "source": []
  }
 ],
 "metadata": {
  "kernelspec": {
   "display_name": "Python 3",
   "language": "python",
   "name": "python3"
  },
  "language_info": {
   "codemirror_mode": {
    "name": "ipython",
    "version": 3
   },
   "file_extension": ".py",
   "mimetype": "text/x-python",
   "name": "python",
   "nbconvert_exporter": "python",
   "pygments_lexer": "ipython3",
   "version": "3.7.6"
  }
 },
 "nbformat": 4,
 "nbformat_minor": 4
}
