{
 "cells": [
  {
   "cell_type": "code",
   "execution_count": 1,
   "metadata": {},
   "outputs": [
    {
     "name": "stdout",
     "output_type": "stream",
     "text": [
      "Populating the interactive namespace from numpy and matplotlib\n"
     ]
    }
   ],
   "source": [
    "import numpy as np\n",
    "import matplotlib.pyplot as plt \n",
    "\n",
    "%pylab inline\n",
    "plt.style.use('seaborn-dark')\n",
    "plt.rc('font', size=15)\n",
    "\n",
    "\n",
    "import warnings\n",
    "warnings.filterwarnings(\"ignore\")"
   ]
  },
  {
   "cell_type": "code",
   "execution_count": 2,
   "metadata": {},
   "outputs": [],
   "source": [
    "def PrintTriangular(mas, i, lines=None):\n",
    "    if lines is None:\n",
    "        lines = len(mas)\n",
    "        \n",
    "    for line in range(lines):\n",
    "        for n in range(line + 1 - i):\n",
    "            print('{0:7.4f}'.format(mas[line][n]), end=' ')\n",
    "        print()"
   ]
  },
  {
   "cell_type": "code",
   "execution_count": 3,
   "metadata": {},
   "outputs": [],
   "source": [
    "def derivate(u, a, b, x0, N):\n",
    "    h = (b - a) / N\n",
    "    x = np.linspace(a, b, N)\n",
    "    \n",
    "    ans = (u(x0+h) - u(x0-h)) / (2*h)\n",
    "    \n",
    "    return ans"
   ]
  },
  {
   "cell_type": "code",
   "execution_count": 8,
   "metadata": {},
   "outputs": [],
   "source": [
    "def RicherdsonExtrapolation(func, a, b, x0, EPS=10, p=1, q=1, r=2, N=3, S=15):\n",
    "    U = np.zeros((S,S))\n",
    "    R = np.zeros((S,S))\n",
    "    p_eff = np.zeros((S,S))\n",
    "\n",
    "    s = 1\n",
    "    U[0][0] = derivate(func, a, b, x0, N)\n",
    "    while True:\n",
    "        U[s][0] = derivate(func, a, b, x0, r**s*N)\n",
    "\n",
    "        for n in range(s):\n",
    "            R[s][n] = (U[s][n] - U[s-1][n]) / (r**(p + n*q) - 1)\n",
    "            \n",
    "            p_eff[s][n] = log(abs(R[s-1][n]/R[s][n])) / log(r)\n",
    "            \n",
    "            U[s][n + 1] = U[s][n] + R[s][n]\n",
    "            \n",
    "            if abs(R[s][n]) < (0.1)**EPS:\n",
    "                return (U[s][n], R[s][n], p_eff[s][n], p*(s-1)+n*q | p, s, n, U, R, p_eff)\n",
    "            \n",
    "        \n",
    "        s += 1\n",
    "        if s > 13: \n",
    "            return (U[s-1][s-1], R[s-1][s-1], p_eff[s-1][s-3], p + s*q, s, s, U, R, p_eff)\n",
    "\n"
   ]
  },
  {
   "cell_type": "code",
   "execution_count": 10,
   "metadata": {},
   "outputs": [
    {
     "name": "stdout",
     "output_type": "stream",
     "text": [
      " Ответ: 6.0000000000\n",
      " Погрешность: -0.0000000000\n",
      " Эффективный порядок точности:    -inf\n",
      " Теоретический порядок точности: 5.00000\n",
      " \n",
      " 6.8889 \n",
      " 6.2222  5.5556 \n",
      " 6.0556  5.8889  6.0000 \n",
      "\n",
      "-0.6667 \n",
      "-0.1667  0.1111 \n",
      "\n",
      "\n",
      " 2.0000 \n"
     ]
    }
   ],
   "source": [
    "f = lambda x: 2*x**3 + 20\n",
    "\n",
    "ans = RicherdsonExtrapolation(f, a=0, b=2, x0=1, EPS=10)\n",
    "re = \" \\\n",
    "Ответ: {0:12.10f}\\n \\\n",
    "Погрешность: {1:12.10f}\\n \\\n",
    "Эффективный порядок точности: {2:7.10f}\\n \\\n",
    "Теоретический порядок точности: {3:7.5f}\\n \\\n",
    "\".format(ans[0], ans[1], ans[2], ans[3])\n",
    "print(re)\n",
    "PrintTriangular(ans[-3], 0, ans[4])\n",
    "PrintTriangular(ans[-2], 1, ans[4])\n",
    "PrintTriangular(ans[-1], 2, ans[4])"
   ]
  },
  {
   "cell_type": "code",
   "execution_count": null,
   "metadata": {},
   "outputs": [],
   "source": []
  }
 ],
 "metadata": {
  "kernelspec": {
   "display_name": "Python 3",
   "language": "python",
   "name": "python3"
  },
  "language_info": {
   "codemirror_mode": {
    "name": "ipython",
    "version": 3
   },
   "file_extension": ".py",
   "mimetype": "text/x-python",
   "name": "python",
   "nbconvert_exporter": "python",
   "pygments_lexer": "ipython3",
   "version": "3.8.3"
  }
 },
 "nbformat": 4,
 "nbformat_minor": 4
}
