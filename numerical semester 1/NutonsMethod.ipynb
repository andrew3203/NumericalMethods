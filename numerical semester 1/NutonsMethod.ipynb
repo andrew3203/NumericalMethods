{
 "cells": [
  {
   "cell_type": "markdown",
   "metadata": {},
   "source": [
    "# Метод Ньютона и Дихотамии\n",
    "\n",
    "1. Реализовать **метод Ньютона** с конфигурациями:\n",
    "    - С точностью ```E = 0.1```\n",
    "    - С точностью ```E = 0.01```\n",
    "    - С учетом кратности корня\n",
    "    \n",
    "    \n",
    "2. Реализовать **обобщенный метод ньютона метод Ньютона** с точностью ```E = 0.1``` и:\n",
    "    - С начальным приближением ```x = -2 ```\n",
    "    - С начальным приближением ```x = -2 ``` и приминением \"кухонного метода\"\n",
    " \n",
    " \n",
    "3. Реализовать **метод Дихотамии** с конфигурациями:\n",
    "    - С точностью ```E = 0.1```\n",
    "    - С точностью ```E = 0.01```\n",
    "\n",
    "\n",
    "\n",
    "В качестве примера взять функцию ```(x - 1)(x - 2)^2(x - 3)^3 = 0```"
   ]
  },
  {
   "cell_type": "code",
   "execution_count": 1,
   "metadata": {},
   "outputs": [
    {
     "name": "stdout",
     "output_type": "stream",
     "text": [
      "Populating the interactive namespace from numpy and matplotlib\n"
     ]
    },
    {
     "data": {
      "text/plain": [
       "Text(0, 0.5, 'Y')"
      ]
     },
     "execution_count": 1,
     "metadata": {},
     "output_type": "execute_result"
    },
    {
     "data": {
      "image/png": "[encoded data removed]",
      "text/plain": [
       "<Figure size 432x288 with 1 Axes>"
      ]
     },
     "metadata": {},
     "output_type": "display_data"
    }
   ],
   "source": [
    "import numpy as np\n",
    "import pandas as pd\n",
    "import matplotlib.pyplot as plt\n",
    "\n",
    "%pylab inline\n",
    "plt.style.use('seaborn-dark')\n",
    "plt.rc('font', size=14)\n",
    "\n",
    "import warnings\n",
    "warnings.filterwarnings(\"ignore\")\n",
    "\n",
    "\n",
    "def func(x):\n",
    "    return (x - 1) * (x - 2)**2 * (x - 3)**3\n",
    "\n",
    "x = np.linspace(0.95, 3.4, 100)\n",
    "fig = plt.figure()\n",
    "plt.plot(x, [func(num) for num in x])\n",
    "plt.scatter(1, 0)\n",
    "plt.scatter(2, 0)\n",
    "plt.scatter(3, 0)\n",
    "plt.grid(lw=1)\n",
    "plt.xlabel('X')\n",
    "plt.ylabel('Y')"
   ]
  },
  {
   "cell_type": "code",
   "execution_count": 2,
   "metadata": {},
   "outputs": [],
   "source": [
    "def derivative(f, x, dx):\n",
    "    return (f(x+dx) - f(x-dx))/(2*dx)"
   ]
  },
  {
   "cell_type": "markdown",
   "metadata": {},
   "source": [
    "## 1. Метод Ньютона"
   ]
  },
  {
   "cell_type": "code",
   "execution_count": 3,
   "metadata": {},
   "outputs": [],
   "source": [
    "def nuton_simple(f, x0, EPS=1e-6, xn=None, x=0):\n",
    "    t, t0, tn = x, x0, xn\n",
    "    \n",
    "    count = 0\n",
    "    while count < 100:\n",
    "        \n",
    "        try:\n",
    "            xn = x0 - f(x0) / derivative(f, x0, 0.0001)\n",
    "            count += 1\n",
    "        except ZeroDivisionError as e:\n",
    "            return None\n",
    "        \n",
    "        q = (xn - x0) / (x0 - x)\n",
    "        if abs((xn - x0)/(1 - q)) < EPS:            \n",
    "            p = 1 / (1 - q)\n",
    "            solver = lambda x: f(x) / (abs(x - xn))**p\n",
    "            ans = nuton_simple(solver, t0, EPS, tn, t)\n",
    "            if ans is not None:\n",
    "                res = [t for t in ans]\n",
    "                res.append([xn, p, count])\n",
    "                return  res\n",
    "            else:\n",
    "                return [[xn, p, count],]\n",
    "        \n",
    "        else:\n",
    "            x, x0 = x0, xn\n",
    "    \n",
    "    return None"
   ]
  },
  {
   "cell_type": "code",
   "execution_count": 4,
   "metadata": {},
   "outputs": [
    {
     "data": {
      "text/html": [
       "<div>\n",
       "<style scoped>\n",
       "    .dataframe tbody tr th:only-of-type {\n",
       "        vertical-align: middle;\n",
       "    }\n",
       "\n",
       "    .dataframe tbody tr th {\n",
       "        vertical-align: top;\n",
       "    }\n",
       "\n",
       "    .dataframe thead th {\n",
       "        text-align: right;\n",
       "    }\n",
       "</style>\n",
       "<table border=\"1\" class=\"dataframe\">\n",
       "  <thead>\n",
       "    <tr style=\"text-align: right;\">\n",
       "      <th></th>\n",
       "      <th>Корень</th>\n",
       "      <th>Кратность</th>\n",
       "      <th>Итерации</th>\n",
       "    </tr>\n",
       "  </thead>\n",
       "  <tbody>\n",
       "    <tr>\n",
       "      <th>0</th>\n",
       "      <td>1.000000</td>\n",
       "      <td>1.000607</td>\n",
       "      <td>4</td>\n",
       "    </tr>\n",
       "    <tr>\n",
       "      <th>1</th>\n",
       "      <td>2.003270</td>\n",
       "      <td>2.019852</td>\n",
       "      <td>10</td>\n",
       "    </tr>\n",
       "    <tr>\n",
       "      <th>2</th>\n",
       "      <td>3.005171</td>\n",
       "      <td>3.047619</td>\n",
       "      <td>15</td>\n",
       "    </tr>\n",
       "  </tbody>\n",
       "</table>\n",
       "</div>"
      ],
      "text/plain": [
       "     Корень  Кратность  Итерации\n",
       "0  1.000000   1.000607         4\n",
       "1  2.003270   2.019852        10\n",
       "2  3.005171   3.047619        15"
      ]
     },
     "execution_count": 4,
     "metadata": {},
     "output_type": "execute_result"
    }
   ],
   "source": [
    "res = nuton_simple(func, 4, EPS=0.01)\n",
    "pd.DataFrame(res, index=range(len(res)), columns=['Корень', 'Кратность', 'Итерации'])"
   ]
  },
  {
   "cell_type": "code",
   "execution_count": 5,
   "metadata": {},
   "outputs": [
    {
     "data": {
      "text/html": [
       "<div>\n",
       "<style scoped>\n",
       "    .dataframe tbody tr th:only-of-type {\n",
       "        vertical-align: middle;\n",
       "    }\n",
       "\n",
       "    .dataframe tbody tr th {\n",
       "        vertical-align: top;\n",
       "    }\n",
       "\n",
       "    .dataframe thead th {\n",
       "        text-align: right;\n",
       "    }\n",
       "</style>\n",
       "<table border=\"1\" class=\"dataframe\">\n",
       "  <thead>\n",
       "    <tr style=\"text-align: right;\">\n",
       "      <th></th>\n",
       "      <th>Корень</th>\n",
       "      <th>Кратность</th>\n",
       "      <th>Итерации</th>\n",
       "    </tr>\n",
       "  </thead>\n",
       "  <tbody>\n",
       "    <tr>\n",
       "      <th>0</th>\n",
       "      <td>2.026786</td>\n",
       "      <td>2.179672</td>\n",
       "      <td>6</td>\n",
       "    </tr>\n",
       "    <tr>\n",
       "      <th>1</th>\n",
       "      <td>3.055438</td>\n",
       "      <td>3.448099</td>\n",
       "      <td>9</td>\n",
       "    </tr>\n",
       "  </tbody>\n",
       "</table>\n",
       "</div>"
      ],
      "text/plain": [
       "     Корень  Кратность  Итерации\n",
       "0  2.026786   2.179672         6\n",
       "1  3.055438   3.448099         9"
      ]
     },
     "execution_count": 5,
     "metadata": {},
     "output_type": "execute_result"
    }
   ],
   "source": [
    "res = nuton_simple(func, 4, EPS=0.1)\n",
    "pd.DataFrame(res, index=range(len(res)), columns=['Корень', 'Кратность', 'Итерации'])"
   ]
  },
  {
   "cell_type": "markdown",
   "metadata": {},
   "source": [
    "## 2. Обобщенный метод Ньютона"
   ]
  },
  {
   "cell_type": "code",
   "execution_count": 6,
   "metadata": {},
   "outputs": [],
   "source": [
    "def nuton_general(f, x0, EPS=1e-6, xn=None, x=0, k=0):\n",
    "    t, t0, tn = x, x0, xn\n",
    "    \n",
    "    count = 0\n",
    "    while count < 100:\n",
    "        \n",
    "        try:            \n",
    "            ksi = - f(x0) / derivative(f, x0, 0.0001)\n",
    "            \n",
    "            psi1 = f(x0 + ksi)**2\n",
    "            psi0 = f(x0)**2\n",
    "\n",
    "            tay = (psi0 + k * psi1) / (psi0 + psi1)\n",
    "            \n",
    "            xn = x0 + tay*ksi\n",
    "            \n",
    "            count += 1\n",
    "        except ZeroDivisionError as e:\n",
    "            return None\n",
    "        \n",
    "        q = (xn - x0) / (x0 - x)\n",
    "        if abs((xn - x0)/(1 - q)) < EPS:            \n",
    "            p = 1 / (1 - q)\n",
    "            solver = lambda x: f(x) / (abs(x - xn))**p\n",
    "            ans = nuton_general(solver, t0, EPS, tn, t, k)\n",
    "            if ans is not None:\n",
    "                res = [t for t in ans]\n",
    "                res.append([xn, p, count])\n",
    "                return  res\n",
    "            else:\n",
    "                return [[xn, p, count],]\n",
    "        \n",
    "        else:\n",
    "            x, x0 = x0, xn\n",
    "    \n",
    "    return None"
   ]
  },
  {
   "cell_type": "code",
   "execution_count": 7,
   "metadata": {},
   "outputs": [
    {
     "data": {
      "text/html": [
       "<div>\n",
       "<style scoped>\n",
       "    .dataframe tbody tr th:only-of-type {\n",
       "        vertical-align: middle;\n",
       "    }\n",
       "\n",
       "    .dataframe tbody tr th {\n",
       "        vertical-align: top;\n",
       "    }\n",
       "\n",
       "    .dataframe thead th {\n",
       "        text-align: right;\n",
       "    }\n",
       "</style>\n",
       "<table border=\"1\" class=\"dataframe\">\n",
       "  <thead>\n",
       "    <tr style=\"text-align: right;\">\n",
       "      <th></th>\n",
       "      <th>Корень</th>\n",
       "      <th>Кратность</th>\n",
       "      <th>Итерации</th>\n",
       "    </tr>\n",
       "  </thead>\n",
       "  <tbody>\n",
       "    <tr>\n",
       "      <th>0</th>\n",
       "      <td>2.003242</td>\n",
       "      <td>2.131022</td>\n",
       "      <td>9</td>\n",
       "    </tr>\n",
       "    <tr>\n",
       "      <th>1</th>\n",
       "      <td>1.000000</td>\n",
       "      <td>1.026326</td>\n",
       "      <td>9</td>\n",
       "    </tr>\n",
       "    <tr>\n",
       "      <th>2</th>\n",
       "      <td>3.006665</td>\n",
       "      <td>3.330968</td>\n",
       "      <td>16</td>\n",
       "    </tr>\n",
       "  </tbody>\n",
       "</table>\n",
       "</div>"
      ],
      "text/plain": [
       "     Корень  Кратность  Итерации\n",
       "0  2.003242   2.131022         9\n",
       "1  1.000000   1.026326         9\n",
       "2  3.006665   3.330968        16"
      ]
     },
     "execution_count": 7,
     "metadata": {},
     "output_type": "execute_result"
    }
   ],
   "source": [
    "res = nuton_general(func, 4, EPS=0.01)\n",
    "pd.DataFrame(res, index=range(len(res)), columns=['Корень', 'Кратность', 'Итерации'])"
   ]
  },
  {
   "cell_type": "markdown",
   "metadata": {},
   "source": [
    "### Исследование работы обобщенного метода Ньютона на примере функции ```e^x - 2 = 0```"
   ]
  },
  {
   "cell_type": "code",
   "execution_count": 8,
   "metadata": {},
   "outputs": [
    {
     "data": {
      "text/plain": [
       "Text(0, 0.5, 'Y')"
      ]
     },
     "execution_count": 8,
     "metadata": {},
     "output_type": "execute_result"
    },
    {
     "data": {
      "image/png": "[encoded data removed]",
      "text/plain": [
       "<Figure size 432x288 with 1 Axes>"
      ]
     },
     "metadata": {},
     "output_type": "display_data"
    }
   ],
   "source": [
    "def expX(x):\n",
    "    return exp(x) - 2\n",
    "\n",
    "x = np.linspace(-3, 2.1, 100)\n",
    "fig = plt.figure()\n",
    "plt.plot(x, [expX(num) for num in x])\n",
    "plt.scatter(log(2), 0)\n",
    "plt.annotate('X({}, {})'.format(log(2)*100000//1/100000, 0), xy=(log(2)+0.2, 0-0.1))\n",
    "plt.grid(lw=1)\n",
    "plt.xlabel('X')\n",
    "plt.ylabel('Y')"
   ]
  },
  {
   "cell_type": "code",
   "execution_count": 9,
   "metadata": {},
   "outputs": [
    {
     "name": "stdout",
     "output_type": "stream",
     "text": [
      "EPS = 0.1\n"
     ]
    },
    {
     "data": {
      "text/html": [
       "<div>\n",
       "<style scoped>\n",
       "    .dataframe tbody tr th:only-of-type {\n",
       "        vertical-align: middle;\n",
       "    }\n",
       "\n",
       "    .dataframe tbody tr th {\n",
       "        vertical-align: top;\n",
       "    }\n",
       "\n",
       "    .dataframe thead th {\n",
       "        text-align: right;\n",
       "    }\n",
       "</style>\n",
       "<table border=\"1\" class=\"dataframe\">\n",
       "  <thead>\n",
       "    <tr style=\"text-align: right;\">\n",
       "      <th></th>\n",
       "      <th>Корень</th>\n",
       "      <th>Кратность</th>\n",
       "      <th>Итерации</th>\n",
       "    </tr>\n",
       "  </thead>\n",
       "  <tbody>\n",
       "    <tr>\n",
       "      <th>NutonSimple</th>\n",
       "      <td>0.693178</td>\n",
       "      <td>1.069541</td>\n",
       "      <td>15</td>\n",
       "    </tr>\n",
       "    <tr>\n",
       "      <th>NutonGeneral</th>\n",
       "      <td>-2.000000</td>\n",
       "      <td>1.000000</td>\n",
       "      <td>1</td>\n",
       "    </tr>\n",
       "    <tr>\n",
       "      <th>NutonGeneral_with_k=0.1</th>\n",
       "      <td>0.693655</td>\n",
       "      <td>0.905869</td>\n",
       "      <td>5</td>\n",
       "    </tr>\n",
       "    <tr>\n",
       "      <th>NutonGeneral_with_k=0.01</th>\n",
       "      <td>0.694228</td>\n",
       "      <td>0.897836</td>\n",
       "      <td>22</td>\n",
       "    </tr>\n",
       "    <tr>\n",
       "      <th>CorrectAnswer</th>\n",
       "      <td>0.693147</td>\n",
       "      <td>1.000000</td>\n",
       "      <td>0</td>\n",
       "    </tr>\n",
       "  </tbody>\n",
       "</table>\n",
       "</div>"
      ],
      "text/plain": [
       "                            Корень  Кратность  Итерации\n",
       "NutonSimple               0.693178   1.069541        15\n",
       "NutonGeneral             -2.000000   1.000000         1\n",
       "NutonGeneral_with_k=0.1   0.693655   0.905869         5\n",
       "NutonGeneral_with_k=0.01  0.694228   0.897836        22\n",
       "CorrectAnswer             0.693147   1.000000         0"
      ]
     },
     "execution_count": 9,
     "metadata": {},
     "output_type": "execute_result"
    }
   ],
   "source": [
    "# Поиск решения классическим методом Ньютона\n",
    "columns = ['Корень', 'Кратность', 'Итерации']\n",
    "res = nuton_simple(expX, -2, EPS=0.1)\n",
    "df = pd.DataFrame(res, index=['NutonSimple' for _ in range(len(res))], columns=columns)\n",
    "\n",
    "# Поиск решения классическим обобщенным методом Ньютона\n",
    "res = nuton_general(expX, -2, EPS=0.1)\n",
    "tmp = pd.DataFrame(res, index=['NutonGeneral' for _ in range(len(res))], columns=columns)\n",
    "df = df.append(tmp)\n",
    "\n",
    "# Поиск решения классическим обобщенным методом Ньютона с учетом \"кухонного метода\", k=0.1\n",
    "res = nuton_general(expX, -2, EPS=0.1, k=0.1)\n",
    "tmp = pd.DataFrame(res, index=['NutonGeneral_with_k=0.1' for _ in range(len(res))], columns=columns)\n",
    "df = df.append(tmp)\n",
    "\n",
    "# Поиск решения классическим обобщенным методом Ньютона с учетом \"кухонного метода\", k=0.01\n",
    "res = nuton_general(expX, -2, EPS=0.1, k=0.01)\n",
    "tmp = pd.DataFrame(res, index=['NutonGeneral_with_k=0.01' for _ in range(len(res))], columns=columns)\n",
    "df = df.append(tmp)\n",
    "\n",
    "# Правильное решение \n",
    "tmp = pd.DataFrame([[log(2), 1, 0]], index=['CorrectAnswer'], columns=columns)\n",
    "df = df.append(tmp)\n",
    "print('EPS = {}'.format(0.1))\n",
    "df"
   ]
  },
  {
   "cell_type": "markdown",
   "metadata": {},
   "source": [
    "## 3. Метод Дихотамии"
   ]
  },
  {
   "cell_type": "code",
   "execution_count": 12,
   "metadata": {},
   "outputs": [
    {
     "data": {
      "text/plain": [
       "Text(0, 0.5, 'Y')"
      ]
     },
     "execution_count": 12,
     "metadata": {},
     "output_type": "execute_result"
    },
    {
     "data": {
      "image/png": "[encoded data removed]",
      "text/plain": [
       "<Figure size 432x288 with 1 Axes>"
      ]
     },
     "metadata": {},
     "output_type": "display_data"
    }
   ],
   "source": [
    "x = np.linspace(0.95, 3.5, 100)\n",
    "fig = plt.figure()\n",
    "plt.plot(x, [func(num) for num in x])\n",
    "plt.scatter(1, 0)\n",
    "plt.scatter(2, 0)\n",
    "plt.scatter(3, 0)\n",
    "plt.grid(lw=1)\n",
    "plt.xlabel('X')\n",
    "plt.ylabel('Y')"
   ]
  },
  {
   "cell_type": "code",
   "execution_count": 13,
   "metadata": {},
   "outputs": [
    {
     "data": {
      "text/html": [
       "<div>\n",
       "<style scoped>\n",
       "    .dataframe tbody tr th:only-of-type {\n",
       "        vertical-align: middle;\n",
       "    }\n",
       "\n",
       "    .dataframe tbody tr th {\n",
       "        vertical-align: top;\n",
       "    }\n",
       "\n",
       "    .dataframe thead th {\n",
       "        text-align: right;\n",
       "    }\n",
       "</style>\n",
       "<table border=\"1\" class=\"dataframe\">\n",
       "  <thead>\n",
       "    <tr style=\"text-align: right;\">\n",
       "      <th></th>\n",
       "      <th>Корень</th>\n",
       "      <th>Итерации</th>\n",
       "    </tr>\n",
       "  </thead>\n",
       "  <tbody>\n",
       "    <tr>\n",
       "      <th>0</th>\n",
       "      <td>1.001953</td>\n",
       "      <td>9</td>\n",
       "    </tr>\n",
       "    <tr>\n",
       "      <th>1</th>\n",
       "      <td>0.993124</td>\n",
       "      <td>24</td>\n",
       "    </tr>\n",
       "    <tr>\n",
       "      <th>2</th>\n",
       "      <td>2.994141</td>\n",
       "      <td>9</td>\n",
       "    </tr>\n",
       "    <tr>\n",
       "      <th>3</th>\n",
       "      <td>2.991206</td>\n",
       "      <td>13</td>\n",
       "    </tr>\n",
       "    <tr>\n",
       "      <th>4</th>\n",
       "      <td>2.994141</td>\n",
       "      <td>9</td>\n",
       "    </tr>\n",
       "    <tr>\n",
       "      <th>5</th>\n",
       "      <td>1.001953</td>\n",
       "      <td>9</td>\n",
       "    </tr>\n",
       "  </tbody>\n",
       "</table>\n",
       "</div>"
      ],
      "text/plain": [
       "     Корень  Итерации\n",
       "0  1.001953         9\n",
       "1  0.993124        24\n",
       "2  2.994141         9\n",
       "3  2.991206        13\n",
       "4  2.994141         9\n",
       "5  1.001953         9"
      ]
     },
     "execution_count": 13,
     "metadata": {},
     "output_type": "execute_result"
    }
   ],
   "source": [
    "def dehotami_simple(f, x1, x2, EPS=0.1):\n",
    "    t1, t2, = x1, x2\n",
    "    \n",
    "    count = 0\n",
    "    while count < 100:\n",
    "        count += 1\n",
    "        x = (x1 + x2) / 2\n",
    "        \n",
    "        if abs(x1 - x2) < 2*EPS:\n",
    "            solver = lambda val: f(val) / (val - x)\n",
    "            ans = dehotami_simple(solver, t1, t2, EPS)\n",
    "            \n",
    "            if ans is not None:\n",
    "                res = [t for t in ans]\n",
    "                res.append([x, count])\n",
    "                return res\n",
    "            else:\n",
    "                return [[x, count],]\n",
    "        \n",
    "        if f(x1)*f(x) <= 0:\n",
    "            x2 = x\n",
    "        elif f(x2)*f(x) <=0 :\n",
    "            x1 = x\n",
    "        else:\n",
    "            tmp = np.random.random()*(x2-x1) + x1\n",
    "            if f(tmp)*f(x1) <= 0:\n",
    "                x2 = tmp\n",
    "            elif f(tmp)*f(x2) <= 0:\n",
    "                x1 = tmp\n",
    "            \n",
    "    return None\n",
    "\n",
    "res = dehotami_simple(func, -1, 4, EPS=0.01)\n",
    "pd.DataFrame(res, index=range(len(res)), columns=['Корень', 'Итерации'])"
   ]
  },
  {
   "cell_type": "code",
   "execution_count": 14,
   "metadata": {},
   "outputs": [
    {
     "data": {
      "text/html": [
       "<div>\n",
       "<style scoped>\n",
       "    .dataframe tbody tr th:only-of-type {\n",
       "        vertical-align: middle;\n",
       "    }\n",
       "\n",
       "    .dataframe tbody tr th {\n",
       "        vertical-align: top;\n",
       "    }\n",
       "\n",
       "    .dataframe thead th {\n",
       "        text-align: right;\n",
       "    }\n",
       "</style>\n",
       "<table border=\"1\" class=\"dataframe\">\n",
       "  <thead>\n",
       "    <tr style=\"text-align: right;\">\n",
       "      <th></th>\n",
       "      <th>Корень</th>\n",
       "      <th>Итерации</th>\n",
       "    </tr>\n",
       "  </thead>\n",
       "  <tbody>\n",
       "    <tr>\n",
       "      <th>0</th>\n",
       "      <td>2.999634</td>\n",
       "      <td>13</td>\n",
       "    </tr>\n",
       "    <tr>\n",
       "      <th>1</th>\n",
       "      <td>1.000122</td>\n",
       "      <td>13</td>\n",
       "    </tr>\n",
       "  </tbody>\n",
       "</table>\n",
       "</div>"
      ],
      "text/plain": [
       "     Корень  Итерации\n",
       "0  2.999634        13\n",
       "1  1.000122        13"
      ]
     },
     "execution_count": 14,
     "metadata": {},
     "output_type": "execute_result"
    }
   ],
   "source": [
    "res = dehotami_simple(func, -1, 4, EPS=0.001)\n",
    "pd.DataFrame(res, index=range(len(res)), columns=['Корень', 'Итерации'])"
   ]
  }
 ],
 "metadata": {
  "kernelspec": {
   "display_name": "Python 3",
   "language": "python",
   "name": "python3"
  },
  "language_info": {
   "codemirror_mode": {
    "name": "ipython",
    "version": 3
   },
   "file_extension": ".py",
   "mimetype": "text/x-python",
   "name": "python",
   "nbconvert_exporter": "python",
   "pygments_lexer": "ipython3",
   "version": "3.7.6"
  }
 },
 "nbformat": 4,
 "nbformat_minor": 4
}
